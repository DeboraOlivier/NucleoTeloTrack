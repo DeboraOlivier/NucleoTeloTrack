{
 "cells": [
  {
   "cell_type": "code",
   "execution_count": 1,
   "metadata": {},
   "outputs": [],
   "source": [
    "# -*- coding: utf-8 -*-\n",
    "\"\"\"\n",
    "Created on Thu Feb 20 2020\n",
    "@author: David Stirling\n",
    "Script for colouring a set of segmentation label images according to an object tracking number.\n",
    "This script takes in a table of objects and a uint16 segmented image.\n",
    "Resulting images are saved in a new folder.\n",
    "\"\"\"\n",
    "\n",
    "import skimage\n",
    "import skimage.io\n",
    "from skimage.color import label2rgb\n",
    "import numpy as np\n",
    "import pandas as pd\n",
    "import math\n"
   ]
  },
  {
   "cell_type": "code",
   "execution_count": 15,
   "metadata": {},
   "outputs": [
    {
     "name": "stdout",
     "output_type": "stream",
     "text": [
      "Loading data\n"
     ]
    }
   ],
   "source": [
    "# Give me paths to the objects table, images table and input/output folders.\n",
    "# The folders must already exist.\n",
    "# /Users/dekeller/Desktop/TestLAP/ResultsTrack/LAPtrack_Nuclei.csv\n",
    "nucleifile = \"D:\\\\_OUTPUT\\\\_RUNS\\\\RUN3_CP4.0.3\\\\01Primary\\\\siCTRL_20190524_Pos05_cl16\\\\Nuclei.csv\"\n",
    "imagesfile = \"D:\\\\_OUTPUT\\\\_RUNS\\\\RUN3_CP4.0.3\\\\01Primary\\\\siCTRL_20190524_Pos05_cl16\\\\Image.csv\"\n",
    "segpath = \"D:\\\\_INPUT\\\\_AllFull\\\\1_UNET1-labels_nogroup\\\\0.1PrimaryUNET1\\\\siCTRL_20190524_Pos05_cl16_Unet\\\\\"\n",
    "outputpath = \"D:\\\\_OUTPUT\\\\_RUNS\\\\RUN3_CP4.0.3\\\\01Primary\\\\siCTRL_20190524_Pos05_cl16\\\\Relabelled\\\\\"\n",
    "labelfieldname = 'TrackObjects_Label'\n",
    "wantRGB = False\n",
    "\n",
    "\n",
    "print(\"Loading data\")\n",
    "\n",
    "main_df = pd.read_csv(nucleifile)\n",
    "image_df = pd.read_csv(imagesfile)\n",
    "meta_df = image_df[['ImageNumber', 'ObjectsFileName_NucleiUnet1', 'Metadata_LabelTime', 'Metadata_MovieName']]\n",
    "main_df = main_df.merge(meta_df, on=\"ImageNumber\")"
   ]
  },
  {
   "cell_type": "code",
   "execution_count": 16,
   "metadata": {},
   "outputs": [
    {
     "name": "stdout",
     "output_type": "stream",
     "text": [
      "Generating Image List\n",
      "Processing images\n",
      "Saved siCTRL_20190524_Pos05_cl16_Unet-label-0.png\n",
      "Saved siCTRL_20190524_Pos05_cl16_Unet-label-1.png\n"
     ]
    },
    {
     "name": "stderr",
     "output_type": "stream",
     "text": [
      "C:\\Users\\debbi\\Anaconda3\\envs\\LiveAnalysis\\lib\\site-packages\\ipykernel_launcher.py:22: UserWarning: D:\\_OUTPUT\\_RUNS\\RUN3_CP4.0.3\\01Primary\\siCTRL_20190524_Pos05_cl16\\Relabelled\\siCTRL_20190524_Pos05_cl16_Unet-label-0.png is a low contrast image\n",
      "C:\\Users\\debbi\\Anaconda3\\envs\\LiveAnalysis\\lib\\site-packages\\ipykernel_launcher.py:22: UserWarning: D:\\_OUTPUT\\_RUNS\\RUN3_CP4.0.3\\01Primary\\siCTRL_20190524_Pos05_cl16\\Relabelled\\siCTRL_20190524_Pos05_cl16_Unet-label-1.png is a low contrast image\n",
      "C:\\Users\\debbi\\Anaconda3\\envs\\LiveAnalysis\\lib\\site-packages\\ipykernel_launcher.py:22: UserWarning: D:\\_OUTPUT\\_RUNS\\RUN3_CP4.0.3\\01Primary\\siCTRL_20190524_Pos05_cl16\\Relabelled\\siCTRL_20190524_Pos05_cl16_Unet-label-2.png is a low contrast image\n"
     ]
    },
    {
     "name": "stdout",
     "output_type": "stream",
     "text": [
      "Saved siCTRL_20190524_Pos05_cl16_Unet-label-2.png\n",
      "Saved siCTRL_20190524_Pos05_cl16_Unet-label-3.png\n",
      "Saved siCTRL_20190524_Pos05_cl16_Unet-label-4.png\n"
     ]
    },
    {
     "name": "stderr",
     "output_type": "stream",
     "text": [
      "C:\\Users\\debbi\\Anaconda3\\envs\\LiveAnalysis\\lib\\site-packages\\ipykernel_launcher.py:22: UserWarning: D:\\_OUTPUT\\_RUNS\\RUN3_CP4.0.3\\01Primary\\siCTRL_20190524_Pos05_cl16\\Relabelled\\siCTRL_20190524_Pos05_cl16_Unet-label-3.png is a low contrast image\n",
      "C:\\Users\\debbi\\Anaconda3\\envs\\LiveAnalysis\\lib\\site-packages\\ipykernel_launcher.py:22: UserWarning: D:\\_OUTPUT\\_RUNS\\RUN3_CP4.0.3\\01Primary\\siCTRL_20190524_Pos05_cl16\\Relabelled\\siCTRL_20190524_Pos05_cl16_Unet-label-4.png is a low contrast image\n",
      "C:\\Users\\debbi\\Anaconda3\\envs\\LiveAnalysis\\lib\\site-packages\\ipykernel_launcher.py:22: UserWarning: D:\\_OUTPUT\\_RUNS\\RUN3_CP4.0.3\\01Primary\\siCTRL_20190524_Pos05_cl16\\Relabelled\\siCTRL_20190524_Pos05_cl16_Unet-label-5.png is a low contrast image\n"
     ]
    },
    {
     "name": "stdout",
     "output_type": "stream",
     "text": [
      "Saved siCTRL_20190524_Pos05_cl16_Unet-label-5.png\n",
      "Saved siCTRL_20190524_Pos05_cl16_Unet-label-6.png\n",
      "Saved siCTRL_20190524_Pos05_cl16_Unet-label-7.png\n"
     ]
    },
    {
     "name": "stderr",
     "output_type": "stream",
     "text": [
      "C:\\Users\\debbi\\Anaconda3\\envs\\LiveAnalysis\\lib\\site-packages\\ipykernel_launcher.py:22: UserWarning: D:\\_OUTPUT\\_RUNS\\RUN3_CP4.0.3\\01Primary\\siCTRL_20190524_Pos05_cl16\\Relabelled\\siCTRL_20190524_Pos05_cl16_Unet-label-6.png is a low contrast image\n",
      "C:\\Users\\debbi\\Anaconda3\\envs\\LiveAnalysis\\lib\\site-packages\\ipykernel_launcher.py:22: UserWarning: D:\\_OUTPUT\\_RUNS\\RUN3_CP4.0.3\\01Primary\\siCTRL_20190524_Pos05_cl16\\Relabelled\\siCTRL_20190524_Pos05_cl16_Unet-label-7.png is a low contrast image\n",
      "C:\\Users\\debbi\\Anaconda3\\envs\\LiveAnalysis\\lib\\site-packages\\ipykernel_launcher.py:22: UserWarning: D:\\_OUTPUT\\_RUNS\\RUN3_CP4.0.3\\01Primary\\siCTRL_20190524_Pos05_cl16\\Relabelled\\siCTRL_20190524_Pos05_cl16_Unet-label-8.png is a low contrast image\n"
     ]
    },
    {
     "name": "stdout",
     "output_type": "stream",
     "text": [
      "Saved siCTRL_20190524_Pos05_cl16_Unet-label-8.png\n",
      "Saved siCTRL_20190524_Pos05_cl16_Unet-label-9.png\n",
      "Saved siCTRL_20190524_Pos05_cl16_Unet-label-10.png\n"
     ]
    },
    {
     "name": "stderr",
     "output_type": "stream",
     "text": [
      "C:\\Users\\debbi\\Anaconda3\\envs\\LiveAnalysis\\lib\\site-packages\\ipykernel_launcher.py:22: UserWarning: D:\\_OUTPUT\\_RUNS\\RUN3_CP4.0.3\\01Primary\\siCTRL_20190524_Pos05_cl16\\Relabelled\\siCTRL_20190524_Pos05_cl16_Unet-label-9.png is a low contrast image\n",
      "C:\\Users\\debbi\\Anaconda3\\envs\\LiveAnalysis\\lib\\site-packages\\ipykernel_launcher.py:22: UserWarning: D:\\_OUTPUT\\_RUNS\\RUN3_CP4.0.3\\01Primary\\siCTRL_20190524_Pos05_cl16\\Relabelled\\siCTRL_20190524_Pos05_cl16_Unet-label-10.png is a low contrast image\n",
      "C:\\Users\\debbi\\Anaconda3\\envs\\LiveAnalysis\\lib\\site-packages\\ipykernel_launcher.py:22: UserWarning: D:\\_OUTPUT\\_RUNS\\RUN3_CP4.0.3\\01Primary\\siCTRL_20190524_Pos05_cl16\\Relabelled\\siCTRL_20190524_Pos05_cl16_Unet-label-11.png is a low contrast image\n"
     ]
    },
    {
     "name": "stdout",
     "output_type": "stream",
     "text": [
      "Saved siCTRL_20190524_Pos05_cl16_Unet-label-11.png\n",
      "Saved siCTRL_20190524_Pos05_cl16_Unet-label-12.png\n",
      "Saved siCTRL_20190524_Pos05_cl16_Unet-label-13.png\n"
     ]
    },
    {
     "name": "stderr",
     "output_type": "stream",
     "text": [
      "C:\\Users\\debbi\\Anaconda3\\envs\\LiveAnalysis\\lib\\site-packages\\ipykernel_launcher.py:22: UserWarning: D:\\_OUTPUT\\_RUNS\\RUN3_CP4.0.3\\01Primary\\siCTRL_20190524_Pos05_cl16\\Relabelled\\siCTRL_20190524_Pos05_cl16_Unet-label-12.png is a low contrast image\n",
      "C:\\Users\\debbi\\Anaconda3\\envs\\LiveAnalysis\\lib\\site-packages\\ipykernel_launcher.py:22: UserWarning: D:\\_OUTPUT\\_RUNS\\RUN3_CP4.0.3\\01Primary\\siCTRL_20190524_Pos05_cl16\\Relabelled\\siCTRL_20190524_Pos05_cl16_Unet-label-13.png is a low contrast image\n",
      "C:\\Users\\debbi\\Anaconda3\\envs\\LiveAnalysis\\lib\\site-packages\\ipykernel_launcher.py:22: UserWarning: D:\\_OUTPUT\\_RUNS\\RUN3_CP4.0.3\\01Primary\\siCTRL_20190524_Pos05_cl16\\Relabelled\\siCTRL_20190524_Pos05_cl16_Unet-label-14.png is a low contrast image\n"
     ]
    },
    {
     "name": "stdout",
     "output_type": "stream",
     "text": [
      "Saved siCTRL_20190524_Pos05_cl16_Unet-label-14.png\n",
      "Saved siCTRL_20190524_Pos05_cl16_Unet-label-15.png\n",
      "Saved siCTRL_20190524_Pos05_cl16_Unet-label-16.png\n",
      "Saved siCTRL_20190524_Pos05_cl16_Unet-label-17.png\n"
     ]
    },
    {
     "name": "stderr",
     "output_type": "stream",
     "text": [
      "C:\\Users\\debbi\\Anaconda3\\envs\\LiveAnalysis\\lib\\site-packages\\ipykernel_launcher.py:22: UserWarning: D:\\_OUTPUT\\_RUNS\\RUN3_CP4.0.3\\01Primary\\siCTRL_20190524_Pos05_cl16\\Relabelled\\siCTRL_20190524_Pos05_cl16_Unet-label-15.png is a low contrast image\n",
      "C:\\Users\\debbi\\Anaconda3\\envs\\LiveAnalysis\\lib\\site-packages\\ipykernel_launcher.py:22: UserWarning: D:\\_OUTPUT\\_RUNS\\RUN3_CP4.0.3\\01Primary\\siCTRL_20190524_Pos05_cl16\\Relabelled\\siCTRL_20190524_Pos05_cl16_Unet-label-16.png is a low contrast image\n",
      "C:\\Users\\debbi\\Anaconda3\\envs\\LiveAnalysis\\lib\\site-packages\\ipykernel_launcher.py:22: UserWarning: D:\\_OUTPUT\\_RUNS\\RUN3_CP4.0.3\\01Primary\\siCTRL_20190524_Pos05_cl16\\Relabelled\\siCTRL_20190524_Pos05_cl16_Unet-label-17.png is a low contrast image\n",
      "C:\\Users\\debbi\\Anaconda3\\envs\\LiveAnalysis\\lib\\site-packages\\ipykernel_launcher.py:22: UserWarning: D:\\_OUTPUT\\_RUNS\\RUN3_CP4.0.3\\01Primary\\siCTRL_20190524_Pos05_cl16\\Relabelled\\siCTRL_20190524_Pos05_cl16_Unet-label-18.png is a low contrast image\n"
     ]
    },
    {
     "name": "stdout",
     "output_type": "stream",
     "text": [
      "Saved siCTRL_20190524_Pos05_cl16_Unet-label-18.png\n",
      "Saved siCTRL_20190524_Pos05_cl16_Unet-label-19.png\n"
     ]
    },
    {
     "name": "stderr",
     "output_type": "stream",
     "text": [
      "C:\\Users\\debbi\\Anaconda3\\envs\\LiveAnalysis\\lib\\site-packages\\ipykernel_launcher.py:22: UserWarning: D:\\_OUTPUT\\_RUNS\\RUN3_CP4.0.3\\01Primary\\siCTRL_20190524_Pos05_cl16\\Relabelled\\siCTRL_20190524_Pos05_cl16_Unet-label-19.png is a low contrast image\n",
      "C:\\Users\\debbi\\Anaconda3\\envs\\LiveAnalysis\\lib\\site-packages\\ipykernel_launcher.py:22: UserWarning: D:\\_OUTPUT\\_RUNS\\RUN3_CP4.0.3\\01Primary\\siCTRL_20190524_Pos05_cl16\\Relabelled\\siCTRL_20190524_Pos05_cl16_Unet-label-20.png is a low contrast image\n",
      "C:\\Users\\debbi\\Anaconda3\\envs\\LiveAnalysis\\lib\\site-packages\\ipykernel_launcher.py:22: UserWarning: D:\\_OUTPUT\\_RUNS\\RUN3_CP4.0.3\\01Primary\\siCTRL_20190524_Pos05_cl16\\Relabelled\\siCTRL_20190524_Pos05_cl16_Unet-label-21.png is a low contrast image\n"
     ]
    },
    {
     "name": "stdout",
     "output_type": "stream",
     "text": [
      "Saved siCTRL_20190524_Pos05_cl16_Unet-label-20.png\n",
      "Saved siCTRL_20190524_Pos05_cl16_Unet-label-21.png\n"
     ]
    },
    {
     "name": "stderr",
     "output_type": "stream",
     "text": [
      "C:\\Users\\debbi\\Anaconda3\\envs\\LiveAnalysis\\lib\\site-packages\\ipykernel_launcher.py:22: UserWarning: D:\\_OUTPUT\\_RUNS\\RUN3_CP4.0.3\\01Primary\\siCTRL_20190524_Pos05_cl16\\Relabelled\\siCTRL_20190524_Pos05_cl16_Unet-label-22.png is a low contrast image\n",
      "C:\\Users\\debbi\\Anaconda3\\envs\\LiveAnalysis\\lib\\site-packages\\ipykernel_launcher.py:22: UserWarning: D:\\_OUTPUT\\_RUNS\\RUN3_CP4.0.3\\01Primary\\siCTRL_20190524_Pos05_cl16\\Relabelled\\siCTRL_20190524_Pos05_cl16_Unet-label-23.png is a low contrast image\n",
      "C:\\Users\\debbi\\Anaconda3\\envs\\LiveAnalysis\\lib\\site-packages\\ipykernel_launcher.py:22: UserWarning: D:\\_OUTPUT\\_RUNS\\RUN3_CP4.0.3\\01Primary\\siCTRL_20190524_Pos05_cl16\\Relabelled\\siCTRL_20190524_Pos05_cl16_Unet-label-24.png is a low contrast image\n"
     ]
    },
    {
     "name": "stdout",
     "output_type": "stream",
     "text": [
      "Saved siCTRL_20190524_Pos05_cl16_Unet-label-22.png\n",
      "Saved siCTRL_20190524_Pos05_cl16_Unet-label-23.png\n",
      "Saved siCTRL_20190524_Pos05_cl16_Unet-label-24.png\n"
     ]
    },
    {
     "name": "stderr",
     "output_type": "stream",
     "text": [
      "C:\\Users\\debbi\\Anaconda3\\envs\\LiveAnalysis\\lib\\site-packages\\ipykernel_launcher.py:22: UserWarning: D:\\_OUTPUT\\_RUNS\\RUN3_CP4.0.3\\01Primary\\siCTRL_20190524_Pos05_cl16\\Relabelled\\siCTRL_20190524_Pos05_cl16_Unet-label-25.png is a low contrast image\n",
      "C:\\Users\\debbi\\Anaconda3\\envs\\LiveAnalysis\\lib\\site-packages\\ipykernel_launcher.py:22: UserWarning: D:\\_OUTPUT\\_RUNS\\RUN3_CP4.0.3\\01Primary\\siCTRL_20190524_Pos05_cl16\\Relabelled\\siCTRL_20190524_Pos05_cl16_Unet-label-26.png is a low contrast image\n",
      "C:\\Users\\debbi\\Anaconda3\\envs\\LiveAnalysis\\lib\\site-packages\\ipykernel_launcher.py:22: UserWarning: D:\\_OUTPUT\\_RUNS\\RUN3_CP4.0.3\\01Primary\\siCTRL_20190524_Pos05_cl16\\Relabelled\\siCTRL_20190524_Pos05_cl16_Unet-label-27.png is a low contrast image\n",
      "C:\\Users\\debbi\\Anaconda3\\envs\\LiveAnalysis\\lib\\site-packages\\ipykernel_launcher.py:22: UserWarning: D:\\_OUTPUT\\_RUNS\\RUN3_CP4.0.3\\01Primary\\siCTRL_20190524_Pos05_cl16\\Relabelled\\siCTRL_20190524_Pos05_cl16_Unet-label-28.png is a low contrast image\n"
     ]
    },
    {
     "name": "stdout",
     "output_type": "stream",
     "text": [
      "Saved siCTRL_20190524_Pos05_cl16_Unet-label-25.png\n",
      "Saved siCTRL_20190524_Pos05_cl16_Unet-label-26.png\n",
      "Saved siCTRL_20190524_Pos05_cl16_Unet-label-27.png\n",
      "Saved siCTRL_20190524_Pos05_cl16_Unet-label-28.png\n"
     ]
    },
    {
     "name": "stderr",
     "output_type": "stream",
     "text": [
      "C:\\Users\\debbi\\Anaconda3\\envs\\LiveAnalysis\\lib\\site-packages\\ipykernel_launcher.py:22: UserWarning: D:\\_OUTPUT\\_RUNS\\RUN3_CP4.0.3\\01Primary\\siCTRL_20190524_Pos05_cl16\\Relabelled\\siCTRL_20190524_Pos05_cl16_Unet-label-29.png is a low contrast image\n",
      "C:\\Users\\debbi\\Anaconda3\\envs\\LiveAnalysis\\lib\\site-packages\\ipykernel_launcher.py:22: UserWarning: D:\\_OUTPUT\\_RUNS\\RUN3_CP4.0.3\\01Primary\\siCTRL_20190524_Pos05_cl16\\Relabelled\\siCTRL_20190524_Pos05_cl16_Unet-label-30.png is a low contrast image\n",
      "C:\\Users\\debbi\\Anaconda3\\envs\\LiveAnalysis\\lib\\site-packages\\ipykernel_launcher.py:22: UserWarning: D:\\_OUTPUT\\_RUNS\\RUN3_CP4.0.3\\01Primary\\siCTRL_20190524_Pos05_cl16\\Relabelled\\siCTRL_20190524_Pos05_cl16_Unet-label-31.png is a low contrast image\n",
      "C:\\Users\\debbi\\Anaconda3\\envs\\LiveAnalysis\\lib\\site-packages\\ipykernel_launcher.py:22: UserWarning: D:\\_OUTPUT\\_RUNS\\RUN3_CP4.0.3\\01Primary\\siCTRL_20190524_Pos05_cl16\\Relabelled\\siCTRL_20190524_Pos05_cl16_Unet-label-32.png is a low contrast image\n"
     ]
    },
    {
     "name": "stdout",
     "output_type": "stream",
     "text": [
      "Saved siCTRL_20190524_Pos05_cl16_Unet-label-29.png\n",
      "Saved siCTRL_20190524_Pos05_cl16_Unet-label-30.png\n",
      "Saved siCTRL_20190524_Pos05_cl16_Unet-label-31.png\n",
      "Saved siCTRL_20190524_Pos05_cl16_Unet-label-32.png\n",
      "Saved siCTRL_20190524_Pos05_cl16_Unet-label-33.png\n",
      "Saved siCTRL_20190524_Pos05_cl16_Unet-label-34.png\n"
     ]
    },
    {
     "name": "stderr",
     "output_type": "stream",
     "text": [
      "C:\\Users\\debbi\\Anaconda3\\envs\\LiveAnalysis\\lib\\site-packages\\ipykernel_launcher.py:22: UserWarning: D:\\_OUTPUT\\_RUNS\\RUN3_CP4.0.3\\01Primary\\siCTRL_20190524_Pos05_cl16\\Relabelled\\siCTRL_20190524_Pos05_cl16_Unet-label-33.png is a low contrast image\n",
      "C:\\Users\\debbi\\Anaconda3\\envs\\LiveAnalysis\\lib\\site-packages\\ipykernel_launcher.py:22: UserWarning: D:\\_OUTPUT\\_RUNS\\RUN3_CP4.0.3\\01Primary\\siCTRL_20190524_Pos05_cl16\\Relabelled\\siCTRL_20190524_Pos05_cl16_Unet-label-34.png is a low contrast image\n",
      "C:\\Users\\debbi\\Anaconda3\\envs\\LiveAnalysis\\lib\\site-packages\\ipykernel_launcher.py:22: UserWarning: D:\\_OUTPUT\\_RUNS\\RUN3_CP4.0.3\\01Primary\\siCTRL_20190524_Pos05_cl16\\Relabelled\\siCTRL_20190524_Pos05_cl16_Unet-label-35.png is a low contrast image\n",
      "C:\\Users\\debbi\\Anaconda3\\envs\\LiveAnalysis\\lib\\site-packages\\ipykernel_launcher.py:22: UserWarning: D:\\_OUTPUT\\_RUNS\\RUN3_CP4.0.3\\01Primary\\siCTRL_20190524_Pos05_cl16\\Relabelled\\siCTRL_20190524_Pos05_cl16_Unet-label-36.png is a low contrast image\n",
      "C:\\Users\\debbi\\Anaconda3\\envs\\LiveAnalysis\\lib\\site-packages\\ipykernel_launcher.py:22: UserWarning: D:\\_OUTPUT\\_RUNS\\RUN3_CP4.0.3\\01Primary\\siCTRL_20190524_Pos05_cl16\\Relabelled\\siCTRL_20190524_Pos05_cl16_Unet-label-37.png is a low contrast image\n"
     ]
    },
    {
     "name": "stdout",
     "output_type": "stream",
     "text": [
      "Saved siCTRL_20190524_Pos05_cl16_Unet-label-35.png\n",
      "Saved siCTRL_20190524_Pos05_cl16_Unet-label-36.png\n",
      "Saved siCTRL_20190524_Pos05_cl16_Unet-label-37.png\n",
      "Saved siCTRL_20190524_Pos05_cl16_Unet-label-38.png\n",
      "Saved siCTRL_20190524_Pos05_cl16_Unet-label-39.png\n",
      "Saved siCTRL_20190524_Pos05_cl16_Unet-label-40.png\n"
     ]
    },
    {
     "name": "stderr",
     "output_type": "stream",
     "text": [
      "C:\\Users\\debbi\\Anaconda3\\envs\\LiveAnalysis\\lib\\site-packages\\ipykernel_launcher.py:22: UserWarning: D:\\_OUTPUT\\_RUNS\\RUN3_CP4.0.3\\01Primary\\siCTRL_20190524_Pos05_cl16\\Relabelled\\siCTRL_20190524_Pos05_cl16_Unet-label-38.png is a low contrast image\n",
      "C:\\Users\\debbi\\Anaconda3\\envs\\LiveAnalysis\\lib\\site-packages\\ipykernel_launcher.py:22: UserWarning: D:\\_OUTPUT\\_RUNS\\RUN3_CP4.0.3\\01Primary\\siCTRL_20190524_Pos05_cl16\\Relabelled\\siCTRL_20190524_Pos05_cl16_Unet-label-39.png is a low contrast image\n",
      "C:\\Users\\debbi\\Anaconda3\\envs\\LiveAnalysis\\lib\\site-packages\\ipykernel_launcher.py:22: UserWarning: D:\\_OUTPUT\\_RUNS\\RUN3_CP4.0.3\\01Primary\\siCTRL_20190524_Pos05_cl16\\Relabelled\\siCTRL_20190524_Pos05_cl16_Unet-label-40.png is a low contrast image\n",
      "C:\\Users\\debbi\\Anaconda3\\envs\\LiveAnalysis\\lib\\site-packages\\ipykernel_launcher.py:22: UserWarning: D:\\_OUTPUT\\_RUNS\\RUN3_CP4.0.3\\01Primary\\siCTRL_20190524_Pos05_cl16\\Relabelled\\siCTRL_20190524_Pos05_cl16_Unet-label-41.png is a low contrast image\n"
     ]
    },
    {
     "name": "stdout",
     "output_type": "stream",
     "text": [
      "Saved siCTRL_20190524_Pos05_cl16_Unet-label-41.png\n",
      "Saved siCTRL_20190524_Pos05_cl16_Unet-label-42.png\n",
      "Saved siCTRL_20190524_Pos05_cl16_Unet-label-43.png\n"
     ]
    },
    {
     "name": "stderr",
     "output_type": "stream",
     "text": [
      "C:\\Users\\debbi\\Anaconda3\\envs\\LiveAnalysis\\lib\\site-packages\\ipykernel_launcher.py:22: UserWarning: D:\\_OUTPUT\\_RUNS\\RUN3_CP4.0.3\\01Primary\\siCTRL_20190524_Pos05_cl16\\Relabelled\\siCTRL_20190524_Pos05_cl16_Unet-label-42.png is a low contrast image\n",
      "C:\\Users\\debbi\\Anaconda3\\envs\\LiveAnalysis\\lib\\site-packages\\ipykernel_launcher.py:22: UserWarning: D:\\_OUTPUT\\_RUNS\\RUN3_CP4.0.3\\01Primary\\siCTRL_20190524_Pos05_cl16\\Relabelled\\siCTRL_20190524_Pos05_cl16_Unet-label-43.png is a low contrast image\n",
      "C:\\Users\\debbi\\Anaconda3\\envs\\LiveAnalysis\\lib\\site-packages\\ipykernel_launcher.py:22: UserWarning: D:\\_OUTPUT\\_RUNS\\RUN3_CP4.0.3\\01Primary\\siCTRL_20190524_Pos05_cl16\\Relabelled\\siCTRL_20190524_Pos05_cl16_Unet-label-44.png is a low contrast image\n",
      "C:\\Users\\debbi\\Anaconda3\\envs\\LiveAnalysis\\lib\\site-packages\\ipykernel_launcher.py:22: UserWarning: D:\\_OUTPUT\\_RUNS\\RUN3_CP4.0.3\\01Primary\\siCTRL_20190524_Pos05_cl16\\Relabelled\\siCTRL_20190524_Pos05_cl16_Unet-label-45.png is a low contrast image\n"
     ]
    },
    {
     "name": "stdout",
     "output_type": "stream",
     "text": [
      "Saved siCTRL_20190524_Pos05_cl16_Unet-label-44.png\n",
      "Saved siCTRL_20190524_Pos05_cl16_Unet-label-45.png\n",
      "Saved siCTRL_20190524_Pos05_cl16_Unet-label-46.png\n"
     ]
    },
    {
     "name": "stderr",
     "output_type": "stream",
     "text": [
      "C:\\Users\\debbi\\Anaconda3\\envs\\LiveAnalysis\\lib\\site-packages\\ipykernel_launcher.py:22: UserWarning: D:\\_OUTPUT\\_RUNS\\RUN3_CP4.0.3\\01Primary\\siCTRL_20190524_Pos05_cl16\\Relabelled\\siCTRL_20190524_Pos05_cl16_Unet-label-46.png is a low contrast image\n",
      "C:\\Users\\debbi\\Anaconda3\\envs\\LiveAnalysis\\lib\\site-packages\\ipykernel_launcher.py:22: UserWarning: D:\\_OUTPUT\\_RUNS\\RUN3_CP4.0.3\\01Primary\\siCTRL_20190524_Pos05_cl16\\Relabelled\\siCTRL_20190524_Pos05_cl16_Unet-label-47.png is a low contrast image\n",
      "C:\\Users\\debbi\\Anaconda3\\envs\\LiveAnalysis\\lib\\site-packages\\ipykernel_launcher.py:22: UserWarning: D:\\_OUTPUT\\_RUNS\\RUN3_CP4.0.3\\01Primary\\siCTRL_20190524_Pos05_cl16\\Relabelled\\siCTRL_20190524_Pos05_cl16_Unet-label-48.png is a low contrast image\n",
      "C:\\Users\\debbi\\Anaconda3\\envs\\LiveAnalysis\\lib\\site-packages\\ipykernel_launcher.py:22: UserWarning: D:\\_OUTPUT\\_RUNS\\RUN3_CP4.0.3\\01Primary\\siCTRL_20190524_Pos05_cl16\\Relabelled\\siCTRL_20190524_Pos05_cl16_Unet-label-49.png is a low contrast image\n"
     ]
    },
    {
     "name": "stdout",
     "output_type": "stream",
     "text": [
      "Saved siCTRL_20190524_Pos05_cl16_Unet-label-47.png\n",
      "Saved siCTRL_20190524_Pos05_cl16_Unet-label-48.png\n",
      "Saved siCTRL_20190524_Pos05_cl16_Unet-label-49.png\n"
     ]
    },
    {
     "name": "stderr",
     "output_type": "stream",
     "text": [
      "C:\\Users\\debbi\\Anaconda3\\envs\\LiveAnalysis\\lib\\site-packages\\ipykernel_launcher.py:22: UserWarning: D:\\_OUTPUT\\_RUNS\\RUN3_CP4.0.3\\01Primary\\siCTRL_20190524_Pos05_cl16\\Relabelled\\siCTRL_20190524_Pos05_cl16_Unet-label-50.png is a low contrast image\n"
     ]
    },
    {
     "name": "stdout",
     "output_type": "stream",
     "text": [
      "Saved siCTRL_20190524_Pos05_cl16_Unet-label-50.png\n",
      "Saved siCTRL_20190524_Pos05_cl16_Unet-label-51.png\n",
      "Saved siCTRL_20190524_Pos05_cl16_Unet-label-52.png\n"
     ]
    },
    {
     "name": "stderr",
     "output_type": "stream",
     "text": [
      "C:\\Users\\debbi\\Anaconda3\\envs\\LiveAnalysis\\lib\\site-packages\\ipykernel_launcher.py:22: UserWarning: D:\\_OUTPUT\\_RUNS\\RUN3_CP4.0.3\\01Primary\\siCTRL_20190524_Pos05_cl16\\Relabelled\\siCTRL_20190524_Pos05_cl16_Unet-label-51.png is a low contrast image\n",
      "C:\\Users\\debbi\\Anaconda3\\envs\\LiveAnalysis\\lib\\site-packages\\ipykernel_launcher.py:22: UserWarning: D:\\_OUTPUT\\_RUNS\\RUN3_CP4.0.3\\01Primary\\siCTRL_20190524_Pos05_cl16\\Relabelled\\siCTRL_20190524_Pos05_cl16_Unet-label-52.png is a low contrast image\n",
      "C:\\Users\\debbi\\Anaconda3\\envs\\LiveAnalysis\\lib\\site-packages\\ipykernel_launcher.py:22: UserWarning: D:\\_OUTPUT\\_RUNS\\RUN3_CP4.0.3\\01Primary\\siCTRL_20190524_Pos05_cl16\\Relabelled\\siCTRL_20190524_Pos05_cl16_Unet-label-53.png is a low contrast image\n"
     ]
    },
    {
     "name": "stdout",
     "output_type": "stream",
     "text": [
      "Saved siCTRL_20190524_Pos05_cl16_Unet-label-53.png\n",
      "Saved siCTRL_20190524_Pos05_cl16_Unet-label-54.png\n",
      "Saved siCTRL_20190524_Pos05_cl16_Unet-label-55.png"
     ]
    },
    {
     "name": "stderr",
     "output_type": "stream",
     "text": [
      "C:\\Users\\debbi\\Anaconda3\\envs\\LiveAnalysis\\lib\\site-packages\\ipykernel_launcher.py:22: UserWarning: D:\\_OUTPUT\\_RUNS\\RUN3_CP4.0.3\\01Primary\\siCTRL_20190524_Pos05_cl16\\Relabelled\\siCTRL_20190524_Pos05_cl16_Unet-label-54.png is a low contrast image\n",
      "C:\\Users\\debbi\\Anaconda3\\envs\\LiveAnalysis\\lib\\site-packages\\ipykernel_launcher.py:22: UserWarning: D:\\_OUTPUT\\_RUNS\\RUN3_CP4.0.3\\01Primary\\siCTRL_20190524_Pos05_cl16\\Relabelled\\siCTRL_20190524_Pos05_cl16_Unet-label-55.png is a low contrast image\n"
     ]
    },
    {
     "name": "stdout",
     "output_type": "stream",
     "text": [
      "\n",
      "Saved siCTRL_20190524_Pos05_cl16_Unet-label-56.png\n"
     ]
    },
    {
     "name": "stderr",
     "output_type": "stream",
     "text": [
      "C:\\Users\\debbi\\Anaconda3\\envs\\LiveAnalysis\\lib\\site-packages\\ipykernel_launcher.py:22: UserWarning: D:\\_OUTPUT\\_RUNS\\RUN3_CP4.0.3\\01Primary\\siCTRL_20190524_Pos05_cl16\\Relabelled\\siCTRL_20190524_Pos05_cl16_Unet-label-56.png is a low contrast image\n",
      "C:\\Users\\debbi\\Anaconda3\\envs\\LiveAnalysis\\lib\\site-packages\\ipykernel_launcher.py:22: UserWarning: D:\\_OUTPUT\\_RUNS\\RUN3_CP4.0.3\\01Primary\\siCTRL_20190524_Pos05_cl16\\Relabelled\\siCTRL_20190524_Pos05_cl16_Unet-label-57.png is a low contrast image\n",
      "C:\\Users\\debbi\\Anaconda3\\envs\\LiveAnalysis\\lib\\site-packages\\ipykernel_launcher.py:22: UserWarning: D:\\_OUTPUT\\_RUNS\\RUN3_CP4.0.3\\01Primary\\siCTRL_20190524_Pos05_cl16\\Relabelled\\siCTRL_20190524_Pos05_cl16_Unet-label-58.png is a low contrast image\n"
     ]
    },
    {
     "name": "stdout",
     "output_type": "stream",
     "text": [
      "Saved siCTRL_20190524_Pos05_cl16_Unet-label-57.png\n",
      "Saved siCTRL_20190524_Pos05_cl16_Unet-label-58.png\n",
      "Saved siCTRL_20190524_Pos05_cl16_Unet-label-59.png\n"
     ]
    },
    {
     "name": "stderr",
     "output_type": "stream",
     "text": [
      "C:\\Users\\debbi\\Anaconda3\\envs\\LiveAnalysis\\lib\\site-packages\\ipykernel_launcher.py:22: UserWarning: D:\\_OUTPUT\\_RUNS\\RUN3_CP4.0.3\\01Primary\\siCTRL_20190524_Pos05_cl16\\Relabelled\\siCTRL_20190524_Pos05_cl16_Unet-label-59.png is a low contrast image\n",
      "C:\\Users\\debbi\\Anaconda3\\envs\\LiveAnalysis\\lib\\site-packages\\ipykernel_launcher.py:22: UserWarning: D:\\_OUTPUT\\_RUNS\\RUN3_CP4.0.3\\01Primary\\siCTRL_20190524_Pos05_cl16\\Relabelled\\siCTRL_20190524_Pos05_cl16_Unet-label-60.png is a low contrast image\n",
      "C:\\Users\\debbi\\Anaconda3\\envs\\LiveAnalysis\\lib\\site-packages\\ipykernel_launcher.py:22: UserWarning: D:\\_OUTPUT\\_RUNS\\RUN3_CP4.0.3\\01Primary\\siCTRL_20190524_Pos05_cl16\\Relabelled\\siCTRL_20190524_Pos05_cl16_Unet-label-61.png is a low contrast image\n"
     ]
    },
    {
     "name": "stdout",
     "output_type": "stream",
     "text": [
      "Saved siCTRL_20190524_Pos05_cl16_Unet-label-60.png\n",
      "Saved siCTRL_20190524_Pos05_cl16_Unet-label-61.png\n",
      "Saved siCTRL_20190524_Pos05_cl16_Unet-label-62.png\n"
     ]
    },
    {
     "name": "stderr",
     "output_type": "stream",
     "text": [
      "C:\\Users\\debbi\\Anaconda3\\envs\\LiveAnalysis\\lib\\site-packages\\ipykernel_launcher.py:22: UserWarning: D:\\_OUTPUT\\_RUNS\\RUN3_CP4.0.3\\01Primary\\siCTRL_20190524_Pos05_cl16\\Relabelled\\siCTRL_20190524_Pos05_cl16_Unet-label-62.png is a low contrast image\n",
      "C:\\Users\\debbi\\Anaconda3\\envs\\LiveAnalysis\\lib\\site-packages\\ipykernel_launcher.py:22: UserWarning: D:\\_OUTPUT\\_RUNS\\RUN3_CP4.0.3\\01Primary\\siCTRL_20190524_Pos05_cl16\\Relabelled\\siCTRL_20190524_Pos05_cl16_Unet-label-63.png is a low contrast image\n",
      "C:\\Users\\debbi\\Anaconda3\\envs\\LiveAnalysis\\lib\\site-packages\\ipykernel_launcher.py:22: UserWarning: D:\\_OUTPUT\\_RUNS\\RUN3_CP4.0.3\\01Primary\\siCTRL_20190524_Pos05_cl16\\Relabelled\\siCTRL_20190524_Pos05_cl16_Unet-label-64.png is a low contrast image\n"
     ]
    },
    {
     "name": "stdout",
     "output_type": "stream",
     "text": [
      "Saved siCTRL_20190524_Pos05_cl16_Unet-label-63.png\n",
      "Saved siCTRL_20190524_Pos05_cl16_Unet-label-64.png\n",
      "Saved siCTRL_20190524_Pos05_cl16_Unet-label-65.png\n"
     ]
    },
    {
     "name": "stderr",
     "output_type": "stream",
     "text": [
      "C:\\Users\\debbi\\Anaconda3\\envs\\LiveAnalysis\\lib\\site-packages\\ipykernel_launcher.py:22: UserWarning: D:\\_OUTPUT\\_RUNS\\RUN3_CP4.0.3\\01Primary\\siCTRL_20190524_Pos05_cl16\\Relabelled\\siCTRL_20190524_Pos05_cl16_Unet-label-65.png is a low contrast image\n",
      "C:\\Users\\debbi\\Anaconda3\\envs\\LiveAnalysis\\lib\\site-packages\\ipykernel_launcher.py:22: UserWarning: D:\\_OUTPUT\\_RUNS\\RUN3_CP4.0.3\\01Primary\\siCTRL_20190524_Pos05_cl16\\Relabelled\\siCTRL_20190524_Pos05_cl16_Unet-label-66.png is a low contrast image\n",
      "C:\\Users\\debbi\\Anaconda3\\envs\\LiveAnalysis\\lib\\site-packages\\ipykernel_launcher.py:22: UserWarning: D:\\_OUTPUT\\_RUNS\\RUN3_CP4.0.3\\01Primary\\siCTRL_20190524_Pos05_cl16\\Relabelled\\siCTRL_20190524_Pos05_cl16_Unet-label-67.png is a low contrast image\n"
     ]
    },
    {
     "name": "stdout",
     "output_type": "stream",
     "text": [
      "Saved siCTRL_20190524_Pos05_cl16_Unet-label-66.png\n",
      "Saved siCTRL_20190524_Pos05_cl16_Unet-label-67.png\n",
      "Saved siCTRL_20190524_Pos05_cl16_Unet-label-68.png\n"
     ]
    },
    {
     "name": "stderr",
     "output_type": "stream",
     "text": [
      "C:\\Users\\debbi\\Anaconda3\\envs\\LiveAnalysis\\lib\\site-packages\\ipykernel_launcher.py:22: UserWarning: D:\\_OUTPUT\\_RUNS\\RUN3_CP4.0.3\\01Primary\\siCTRL_20190524_Pos05_cl16\\Relabelled\\siCTRL_20190524_Pos05_cl16_Unet-label-68.png is a low contrast image\n",
      "C:\\Users\\debbi\\Anaconda3\\envs\\LiveAnalysis\\lib\\site-packages\\ipykernel_launcher.py:22: UserWarning: D:\\_OUTPUT\\_RUNS\\RUN3_CP4.0.3\\01Primary\\siCTRL_20190524_Pos05_cl16\\Relabelled\\siCTRL_20190524_Pos05_cl16_Unet-label-69.png is a low contrast image\n",
      "C:\\Users\\debbi\\Anaconda3\\envs\\LiveAnalysis\\lib\\site-packages\\ipykernel_launcher.py:22: UserWarning: D:\\_OUTPUT\\_RUNS\\RUN3_CP4.0.3\\01Primary\\siCTRL_20190524_Pos05_cl16\\Relabelled\\siCTRL_20190524_Pos05_cl16_Unet-label-70.png is a low contrast image\n"
     ]
    },
    {
     "name": "stdout",
     "output_type": "stream",
     "text": [
      "Saved siCTRL_20190524_Pos05_cl16_Unet-label-69.png\n",
      "Saved siCTRL_20190524_Pos05_cl16_Unet-label-70.png\n",
      "Saved siCTRL_20190524_Pos05_cl16_Unet-label-71.png\n"
     ]
    },
    {
     "name": "stderr",
     "output_type": "stream",
     "text": [
      "C:\\Users\\debbi\\Anaconda3\\envs\\LiveAnalysis\\lib\\site-packages\\ipykernel_launcher.py:22: UserWarning: D:\\_OUTPUT\\_RUNS\\RUN3_CP4.0.3\\01Primary\\siCTRL_20190524_Pos05_cl16\\Relabelled\\siCTRL_20190524_Pos05_cl16_Unet-label-71.png is a low contrast image\n",
      "C:\\Users\\debbi\\Anaconda3\\envs\\LiveAnalysis\\lib\\site-packages\\ipykernel_launcher.py:22: UserWarning: D:\\_OUTPUT\\_RUNS\\RUN3_CP4.0.3\\01Primary\\siCTRL_20190524_Pos05_cl16\\Relabelled\\siCTRL_20190524_Pos05_cl16_Unet-label-72.png is a low contrast image\n",
      "C:\\Users\\debbi\\Anaconda3\\envs\\LiveAnalysis\\lib\\site-packages\\ipykernel_launcher.py:22: UserWarning: D:\\_OUTPUT\\_RUNS\\RUN3_CP4.0.3\\01Primary\\siCTRL_20190524_Pos05_cl16\\Relabelled\\siCTRL_20190524_Pos05_cl16_Unet-label-73.png is a low contrast image\n"
     ]
    },
    {
     "name": "stdout",
     "output_type": "stream",
     "text": [
      "Saved siCTRL_20190524_Pos05_cl16_Unet-label-72.png\n",
      "Saved siCTRL_20190524_Pos05_cl16_Unet-label-73.png\n",
      "Saved siCTRL_20190524_Pos05_cl16_Unet-label-74.png\n"
     ]
    },
    {
     "name": "stderr",
     "output_type": "stream",
     "text": [
      "C:\\Users\\debbi\\Anaconda3\\envs\\LiveAnalysis\\lib\\site-packages\\ipykernel_launcher.py:22: UserWarning: D:\\_OUTPUT\\_RUNS\\RUN3_CP4.0.3\\01Primary\\siCTRL_20190524_Pos05_cl16\\Relabelled\\siCTRL_20190524_Pos05_cl16_Unet-label-74.png is a low contrast image\n",
      "C:\\Users\\debbi\\Anaconda3\\envs\\LiveAnalysis\\lib\\site-packages\\ipykernel_launcher.py:22: UserWarning: D:\\_OUTPUT\\_RUNS\\RUN3_CP4.0.3\\01Primary\\siCTRL_20190524_Pos05_cl16\\Relabelled\\siCTRL_20190524_Pos05_cl16_Unet-label-75.png is a low contrast image\n",
      "C:\\Users\\debbi\\Anaconda3\\envs\\LiveAnalysis\\lib\\site-packages\\ipykernel_launcher.py:22: UserWarning: D:\\_OUTPUT\\_RUNS\\RUN3_CP4.0.3\\01Primary\\siCTRL_20190524_Pos05_cl16\\Relabelled\\siCTRL_20190524_Pos05_cl16_Unet-label-76.png is a low contrast image\n"
     ]
    },
    {
     "name": "stdout",
     "output_type": "stream",
     "text": [
      "Saved siCTRL_20190524_Pos05_cl16_Unet-label-75.png\n",
      "Saved siCTRL_20190524_Pos05_cl16_Unet-label-76.png\n",
      "Saved siCTRL_20190524_Pos05_cl16_Unet-label-77.png\n"
     ]
    },
    {
     "name": "stderr",
     "output_type": "stream",
     "text": [
      "C:\\Users\\debbi\\Anaconda3\\envs\\LiveAnalysis\\lib\\site-packages\\ipykernel_launcher.py:22: UserWarning: D:\\_OUTPUT\\_RUNS\\RUN3_CP4.0.3\\01Primary\\siCTRL_20190524_Pos05_cl16\\Relabelled\\siCTRL_20190524_Pos05_cl16_Unet-label-77.png is a low contrast image\n",
      "C:\\Users\\debbi\\Anaconda3\\envs\\LiveAnalysis\\lib\\site-packages\\ipykernel_launcher.py:22: UserWarning: D:\\_OUTPUT\\_RUNS\\RUN3_CP4.0.3\\01Primary\\siCTRL_20190524_Pos05_cl16\\Relabelled\\siCTRL_20190524_Pos05_cl16_Unet-label-78.png is a low contrast image\n",
      "C:\\Users\\debbi\\Anaconda3\\envs\\LiveAnalysis\\lib\\site-packages\\ipykernel_launcher.py:22: UserWarning: D:\\_OUTPUT\\_RUNS\\RUN3_CP4.0.3\\01Primary\\siCTRL_20190524_Pos05_cl16\\Relabelled\\siCTRL_20190524_Pos05_cl16_Unet-label-79.png is a low contrast image\n"
     ]
    },
    {
     "name": "stdout",
     "output_type": "stream",
     "text": [
      "Saved siCTRL_20190524_Pos05_cl16_Unet-label-78.png\n",
      "Saved siCTRL_20190524_Pos05_cl16_Unet-label-79.png\n",
      "Saved siCTRL_20190524_Pos05_cl16_Unet-label-80.png\n"
     ]
    },
    {
     "name": "stderr",
     "output_type": "stream",
     "text": [
      "C:\\Users\\debbi\\Anaconda3\\envs\\LiveAnalysis\\lib\\site-packages\\ipykernel_launcher.py:22: UserWarning: D:\\_OUTPUT\\_RUNS\\RUN3_CP4.0.3\\01Primary\\siCTRL_20190524_Pos05_cl16\\Relabelled\\siCTRL_20190524_Pos05_cl16_Unet-label-80.png is a low contrast image\n",
      "C:\\Users\\debbi\\Anaconda3\\envs\\LiveAnalysis\\lib\\site-packages\\ipykernel_launcher.py:22: UserWarning: D:\\_OUTPUT\\_RUNS\\RUN3_CP4.0.3\\01Primary\\siCTRL_20190524_Pos05_cl16\\Relabelled\\siCTRL_20190524_Pos05_cl16_Unet-label-81.png is a low contrast image\n",
      "C:\\Users\\debbi\\Anaconda3\\envs\\LiveAnalysis\\lib\\site-packages\\ipykernel_launcher.py:22: UserWarning: D:\\_OUTPUT\\_RUNS\\RUN3_CP4.0.3\\01Primary\\siCTRL_20190524_Pos05_cl16\\Relabelled\\siCTRL_20190524_Pos05_cl16_Unet-label-82.png is a low contrast image\n"
     ]
    },
    {
     "name": "stdout",
     "output_type": "stream",
     "text": [
      "Saved siCTRL_20190524_Pos05_cl16_Unet-label-81.png\n",
      "Saved siCTRL_20190524_Pos05_cl16_Unet-label-82.png\n",
      "Saved siCTRL_20190524_Pos05_cl16_Unet-label-83.png\n"
     ]
    },
    {
     "name": "stderr",
     "output_type": "stream",
     "text": [
      "C:\\Users\\debbi\\Anaconda3\\envs\\LiveAnalysis\\lib\\site-packages\\ipykernel_launcher.py:22: UserWarning: D:\\_OUTPUT\\_RUNS\\RUN3_CP4.0.3\\01Primary\\siCTRL_20190524_Pos05_cl16\\Relabelled\\siCTRL_20190524_Pos05_cl16_Unet-label-83.png is a low contrast image\n",
      "C:\\Users\\debbi\\Anaconda3\\envs\\LiveAnalysis\\lib\\site-packages\\ipykernel_launcher.py:22: UserWarning: D:\\_OUTPUT\\_RUNS\\RUN3_CP4.0.3\\01Primary\\siCTRL_20190524_Pos05_cl16\\Relabelled\\siCTRL_20190524_Pos05_cl16_Unet-label-84.png is a low contrast image\n",
      "C:\\Users\\debbi\\Anaconda3\\envs\\LiveAnalysis\\lib\\site-packages\\ipykernel_launcher.py:22: UserWarning: D:\\_OUTPUT\\_RUNS\\RUN3_CP4.0.3\\01Primary\\siCTRL_20190524_Pos05_cl16\\Relabelled\\siCTRL_20190524_Pos05_cl16_Unet-label-85.png is a low contrast image\n"
     ]
    },
    {
     "name": "stdout",
     "output_type": "stream",
     "text": [
      "Saved siCTRL_20190524_Pos05_cl16_Unet-label-84.png\n",
      "Saved siCTRL_20190524_Pos05_cl16_Unet-label-85.png\n"
     ]
    },
    {
     "name": "stderr",
     "output_type": "stream",
     "text": [
      "C:\\Users\\debbi\\Anaconda3\\envs\\LiveAnalysis\\lib\\site-packages\\ipykernel_launcher.py:22: UserWarning: D:\\_OUTPUT\\_RUNS\\RUN3_CP4.0.3\\01Primary\\siCTRL_20190524_Pos05_cl16\\Relabelled\\siCTRL_20190524_Pos05_cl16_Unet-label-86.png is a low contrast image\n",
      "C:\\Users\\debbi\\Anaconda3\\envs\\LiveAnalysis\\lib\\site-packages\\ipykernel_launcher.py:22: UserWarning: D:\\_OUTPUT\\_RUNS\\RUN3_CP4.0.3\\01Primary\\siCTRL_20190524_Pos05_cl16\\Relabelled\\siCTRL_20190524_Pos05_cl16_Unet-label-87.png is a low contrast image\n"
     ]
    },
    {
     "name": "stdout",
     "output_type": "stream",
     "text": [
      "Saved siCTRL_20190524_Pos05_cl16_Unet-label-86.png\n",
      "Saved siCTRL_20190524_Pos05_cl16_Unet-label-87.png\n"
     ]
    },
    {
     "name": "stderr",
     "output_type": "stream",
     "text": [
      "C:\\Users\\debbi\\Anaconda3\\envs\\LiveAnalysis\\lib\\site-packages\\ipykernel_launcher.py:22: UserWarning: D:\\_OUTPUT\\_RUNS\\RUN3_CP4.0.3\\01Primary\\siCTRL_20190524_Pos05_cl16\\Relabelled\\siCTRL_20190524_Pos05_cl16_Unet-label-88.png is a low contrast image\n"
     ]
    },
    {
     "name": "stdout",
     "output_type": "stream",
     "text": [
      "Saved siCTRL_20190524_Pos05_cl16_Unet-label-88.png\n",
      "Saved siCTRL_20190524_Pos05_cl16_Unet-label-89.png\n"
     ]
    },
    {
     "name": "stderr",
     "output_type": "stream",
     "text": [
      "C:\\Users\\debbi\\Anaconda3\\envs\\LiveAnalysis\\lib\\site-packages\\ipykernel_launcher.py:22: UserWarning: D:\\_OUTPUT\\_RUNS\\RUN3_CP4.0.3\\01Primary\\siCTRL_20190524_Pos05_cl16\\Relabelled\\siCTRL_20190524_Pos05_cl16_Unet-label-89.png is a low contrast image\n",
      "C:\\Users\\debbi\\Anaconda3\\envs\\LiveAnalysis\\lib\\site-packages\\ipykernel_launcher.py:22: UserWarning: D:\\_OUTPUT\\_RUNS\\RUN3_CP4.0.3\\01Primary\\siCTRL_20190524_Pos05_cl16\\Relabelled\\siCTRL_20190524_Pos05_cl16_Unet-label-90.png is a low contrast image\n",
      "C:\\Users\\debbi\\Anaconda3\\envs\\LiveAnalysis\\lib\\site-packages\\ipykernel_launcher.py:22: UserWarning: D:\\_OUTPUT\\_RUNS\\RUN3_CP4.0.3\\01Primary\\siCTRL_20190524_Pos05_cl16\\Relabelled\\siCTRL_20190524_Pos05_cl16_Unet-label-91.png is a low contrast image\n"
     ]
    },
    {
     "name": "stdout",
     "output_type": "stream",
     "text": [
      "Saved siCTRL_20190524_Pos05_cl16_Unet-label-90.png\n",
      "Saved siCTRL_20190524_Pos05_cl16_Unet-label-91.png\n",
      "Saved siCTRL_20190524_Pos05_cl16_Unet-label-92.png\n"
     ]
    },
    {
     "name": "stderr",
     "output_type": "stream",
     "text": [
      "C:\\Users\\debbi\\Anaconda3\\envs\\LiveAnalysis\\lib\\site-packages\\ipykernel_launcher.py:22: UserWarning: D:\\_OUTPUT\\_RUNS\\RUN3_CP4.0.3\\01Primary\\siCTRL_20190524_Pos05_cl16\\Relabelled\\siCTRL_20190524_Pos05_cl16_Unet-label-92.png is a low contrast image\n",
      "C:\\Users\\debbi\\Anaconda3\\envs\\LiveAnalysis\\lib\\site-packages\\ipykernel_launcher.py:22: UserWarning: D:\\_OUTPUT\\_RUNS\\RUN3_CP4.0.3\\01Primary\\siCTRL_20190524_Pos05_cl16\\Relabelled\\siCTRL_20190524_Pos05_cl16_Unet-label-93.png is a low contrast image\n",
      "C:\\Users\\debbi\\Anaconda3\\envs\\LiveAnalysis\\lib\\site-packages\\ipykernel_launcher.py:22: UserWarning: D:\\_OUTPUT\\_RUNS\\RUN3_CP4.0.3\\01Primary\\siCTRL_20190524_Pos05_cl16\\Relabelled\\siCTRL_20190524_Pos05_cl16_Unet-label-94.png is a low contrast image\n"
     ]
    },
    {
     "name": "stdout",
     "output_type": "stream",
     "text": [
      "Saved siCTRL_20190524_Pos05_cl16_Unet-label-93.png\n",
      "Saved siCTRL_20190524_Pos05_cl16_Unet-label-94.png\n"
     ]
    },
    {
     "name": "stderr",
     "output_type": "stream",
     "text": [
      "C:\\Users\\debbi\\Anaconda3\\envs\\LiveAnalysis\\lib\\site-packages\\ipykernel_launcher.py:22: UserWarning: D:\\_OUTPUT\\_RUNS\\RUN3_CP4.0.3\\01Primary\\siCTRL_20190524_Pos05_cl16\\Relabelled\\siCTRL_20190524_Pos05_cl16_Unet-label-95.png is a low contrast image\n",
      "C:\\Users\\debbi\\Anaconda3\\envs\\LiveAnalysis\\lib\\site-packages\\ipykernel_launcher.py:22: UserWarning: D:\\_OUTPUT\\_RUNS\\RUN3_CP4.0.3\\01Primary\\siCTRL_20190524_Pos05_cl16\\Relabelled\\siCTRL_20190524_Pos05_cl16_Unet-label-96.png is a low contrast image\n"
     ]
    },
    {
     "name": "stdout",
     "output_type": "stream",
     "text": [
      "Saved siCTRL_20190524_Pos05_cl16_Unet-label-95.png\n",
      "Saved siCTRL_20190524_Pos05_cl16_Unet-label-96.png\n"
     ]
    },
    {
     "name": "stderr",
     "output_type": "stream",
     "text": [
      "C:\\Users\\debbi\\Anaconda3\\envs\\LiveAnalysis\\lib\\site-packages\\ipykernel_launcher.py:22: UserWarning: D:\\_OUTPUT\\_RUNS\\RUN3_CP4.0.3\\01Primary\\siCTRL_20190524_Pos05_cl16\\Relabelled\\siCTRL_20190524_Pos05_cl16_Unet-label-97.png is a low contrast image\n",
      "C:\\Users\\debbi\\Anaconda3\\envs\\LiveAnalysis\\lib\\site-packages\\ipykernel_launcher.py:22: UserWarning: D:\\_OUTPUT\\_RUNS\\RUN3_CP4.0.3\\01Primary\\siCTRL_20190524_Pos05_cl16\\Relabelled\\siCTRL_20190524_Pos05_cl16_Unet-label-98.png is a low contrast image\n"
     ]
    },
    {
     "name": "stdout",
     "output_type": "stream",
     "text": [
      "Saved siCTRL_20190524_Pos05_cl16_Unet-label-97.png\n",
      "Saved siCTRL_20190524_Pos05_cl16_Unet-label-98.png\n"
     ]
    },
    {
     "name": "stderr",
     "output_type": "stream",
     "text": [
      "C:\\Users\\debbi\\Anaconda3\\envs\\LiveAnalysis\\lib\\site-packages\\ipykernel_launcher.py:22: UserWarning: D:\\_OUTPUT\\_RUNS\\RUN3_CP4.0.3\\01Primary\\siCTRL_20190524_Pos05_cl16\\Relabelled\\siCTRL_20190524_Pos05_cl16_Unet-label-99.png is a low contrast image\n",
      "C:\\Users\\debbi\\Anaconda3\\envs\\LiveAnalysis\\lib\\site-packages\\ipykernel_launcher.py:22: UserWarning: D:\\_OUTPUT\\_RUNS\\RUN3_CP4.0.3\\01Primary\\siCTRL_20190524_Pos05_cl16\\Relabelled\\siCTRL_20190524_Pos05_cl16_Unet-label-100.png is a low contrast image\n"
     ]
    },
    {
     "name": "stdout",
     "output_type": "stream",
     "text": [
      "Saved siCTRL_20190524_Pos05_cl16_Unet-label-99.png\n",
      "Saved siCTRL_20190524_Pos05_cl16_Unet-label-100.png\n",
      "Saved siCTRL_20190524_Pos05_cl16_Unet-label-101.png"
     ]
    },
    {
     "name": "stderr",
     "output_type": "stream",
     "text": [
      "C:\\Users\\debbi\\Anaconda3\\envs\\LiveAnalysis\\lib\\site-packages\\ipykernel_launcher.py:22: UserWarning: D:\\_OUTPUT\\_RUNS\\RUN3_CP4.0.3\\01Primary\\siCTRL_20190524_Pos05_cl16\\Relabelled\\siCTRL_20190524_Pos05_cl16_Unet-label-101.png is a low contrast image\n",
      "C:\\Users\\debbi\\Anaconda3\\envs\\LiveAnalysis\\lib\\site-packages\\ipykernel_launcher.py:22: UserWarning: D:\\_OUTPUT\\_RUNS\\RUN3_CP4.0.3\\01Primary\\siCTRL_20190524_Pos05_cl16\\Relabelled\\siCTRL_20190524_Pos05_cl16_Unet-label-102.png is a low contrast image\n"
     ]
    },
    {
     "name": "stdout",
     "output_type": "stream",
     "text": [
      "\n",
      "Saved siCTRL_20190524_Pos05_cl16_Unet-label-102.png\n"
     ]
    },
    {
     "name": "stderr",
     "output_type": "stream",
     "text": [
      "C:\\Users\\debbi\\Anaconda3\\envs\\LiveAnalysis\\lib\\site-packages\\ipykernel_launcher.py:22: UserWarning: D:\\_OUTPUT\\_RUNS\\RUN3_CP4.0.3\\01Primary\\siCTRL_20190524_Pos05_cl16\\Relabelled\\siCTRL_20190524_Pos05_cl16_Unet-label-103.png is a low contrast image\n",
      "C:\\Users\\debbi\\Anaconda3\\envs\\LiveAnalysis\\lib\\site-packages\\ipykernel_launcher.py:22: UserWarning: D:\\_OUTPUT\\_RUNS\\RUN3_CP4.0.3\\01Primary\\siCTRL_20190524_Pos05_cl16\\Relabelled\\siCTRL_20190524_Pos05_cl16_Unet-label-104.png is a low contrast image\n"
     ]
    },
    {
     "name": "stdout",
     "output_type": "stream",
     "text": [
      "Saved siCTRL_20190524_Pos05_cl16_Unet-label-103.png\n",
      "Saved siCTRL_20190524_Pos05_cl16_Unet-label-104.png\n"
     ]
    },
    {
     "name": "stderr",
     "output_type": "stream",
     "text": [
      "C:\\Users\\debbi\\Anaconda3\\envs\\LiveAnalysis\\lib\\site-packages\\ipykernel_launcher.py:22: UserWarning: D:\\_OUTPUT\\_RUNS\\RUN3_CP4.0.3\\01Primary\\siCTRL_20190524_Pos05_cl16\\Relabelled\\siCTRL_20190524_Pos05_cl16_Unet-label-105.png is a low contrast image\n",
      "C:\\Users\\debbi\\Anaconda3\\envs\\LiveAnalysis\\lib\\site-packages\\ipykernel_launcher.py:22: UserWarning: D:\\_OUTPUT\\_RUNS\\RUN3_CP4.0.3\\01Primary\\siCTRL_20190524_Pos05_cl16\\Relabelled\\siCTRL_20190524_Pos05_cl16_Unet-label-106.png is a low contrast image\n",
      "C:\\Users\\debbi\\Anaconda3\\envs\\LiveAnalysis\\lib\\site-packages\\ipykernel_launcher.py:22: UserWarning: D:\\_OUTPUT\\_RUNS\\RUN3_CP4.0.3\\01Primary\\siCTRL_20190524_Pos05_cl16\\Relabelled\\siCTRL_20190524_Pos05_cl16_Unet-label-107.png is a low contrast image\n"
     ]
    },
    {
     "name": "stdout",
     "output_type": "stream",
     "text": [
      "Saved siCTRL_20190524_Pos05_cl16_Unet-label-105.png\n",
      "Saved siCTRL_20190524_Pos05_cl16_Unet-label-106.png\n",
      "Saved siCTRL_20190524_Pos05_cl16_Unet-label-107.png\n",
      "Saved siCTRL_20190524_Pos05_cl16_Unet-label-108.png\n"
     ]
    },
    {
     "name": "stderr",
     "output_type": "stream",
     "text": [
      "C:\\Users\\debbi\\Anaconda3\\envs\\LiveAnalysis\\lib\\site-packages\\ipykernel_launcher.py:22: UserWarning: D:\\_OUTPUT\\_RUNS\\RUN3_CP4.0.3\\01Primary\\siCTRL_20190524_Pos05_cl16\\Relabelled\\siCTRL_20190524_Pos05_cl16_Unet-label-108.png is a low contrast image\n",
      "C:\\Users\\debbi\\Anaconda3\\envs\\LiveAnalysis\\lib\\site-packages\\ipykernel_launcher.py:22: UserWarning: D:\\_OUTPUT\\_RUNS\\RUN3_CP4.0.3\\01Primary\\siCTRL_20190524_Pos05_cl16\\Relabelled\\siCTRL_20190524_Pos05_cl16_Unet-label-109.png is a low contrast image\n"
     ]
    },
    {
     "name": "stdout",
     "output_type": "stream",
     "text": [
      "Saved siCTRL_20190524_Pos05_cl16_Unet-label-109.png\n",
      "Saved siCTRL_20190524_Pos05_cl16_Unet-label-110.png\n",
      "Saved siCTRL_20190524_Pos05_cl16_Unet-label-111.png\n"
     ]
    },
    {
     "name": "stderr",
     "output_type": "stream",
     "text": [
      "C:\\Users\\debbi\\Anaconda3\\envs\\LiveAnalysis\\lib\\site-packages\\ipykernel_launcher.py:22: UserWarning: D:\\_OUTPUT\\_RUNS\\RUN3_CP4.0.3\\01Primary\\siCTRL_20190524_Pos05_cl16\\Relabelled\\siCTRL_20190524_Pos05_cl16_Unet-label-110.png is a low contrast image\n",
      "C:\\Users\\debbi\\Anaconda3\\envs\\LiveAnalysis\\lib\\site-packages\\ipykernel_launcher.py:22: UserWarning: D:\\_OUTPUT\\_RUNS\\RUN3_CP4.0.3\\01Primary\\siCTRL_20190524_Pos05_cl16\\Relabelled\\siCTRL_20190524_Pos05_cl16_Unet-label-111.png is a low contrast image\n",
      "C:\\Users\\debbi\\Anaconda3\\envs\\LiveAnalysis\\lib\\site-packages\\ipykernel_launcher.py:22: UserWarning: D:\\_OUTPUT\\_RUNS\\RUN3_CP4.0.3\\01Primary\\siCTRL_20190524_Pos05_cl16\\Relabelled\\siCTRL_20190524_Pos05_cl16_Unet-label-112.png is a low contrast image\n",
      "C:\\Users\\debbi\\Anaconda3\\envs\\LiveAnalysis\\lib\\site-packages\\ipykernel_launcher.py:22: UserWarning: D:\\_OUTPUT\\_RUNS\\RUN3_CP4.0.3\\01Primary\\siCTRL_20190524_Pos05_cl16\\Relabelled\\siCTRL_20190524_Pos05_cl16_Unet-label-113.png is a low contrast image\n"
     ]
    },
    {
     "name": "stdout",
     "output_type": "stream",
     "text": [
      "Saved siCTRL_20190524_Pos05_cl16_Unet-label-112.png\n",
      "Saved siCTRL_20190524_Pos05_cl16_Unet-label-113.png\n"
     ]
    },
    {
     "name": "stderr",
     "output_type": "stream",
     "text": [
      "C:\\Users\\debbi\\Anaconda3\\envs\\LiveAnalysis\\lib\\site-packages\\ipykernel_launcher.py:22: UserWarning: D:\\_OUTPUT\\_RUNS\\RUN3_CP4.0.3\\01Primary\\siCTRL_20190524_Pos05_cl16\\Relabelled\\siCTRL_20190524_Pos05_cl16_Unet-label-114.png is a low contrast image\n",
      "C:\\Users\\debbi\\Anaconda3\\envs\\LiveAnalysis\\lib\\site-packages\\ipykernel_launcher.py:22: UserWarning: D:\\_OUTPUT\\_RUNS\\RUN3_CP4.0.3\\01Primary\\siCTRL_20190524_Pos05_cl16\\Relabelled\\siCTRL_20190524_Pos05_cl16_Unet-label-115.png is a low contrast image\n"
     ]
    },
    {
     "name": "stdout",
     "output_type": "stream",
     "text": [
      "Saved siCTRL_20190524_Pos05_cl16_Unet-label-114.png\n",
      "Saved siCTRL_20190524_Pos05_cl16_Unet-label-115.png\n"
     ]
    },
    {
     "name": "stderr",
     "output_type": "stream",
     "text": [
      "C:\\Users\\debbi\\Anaconda3\\envs\\LiveAnalysis\\lib\\site-packages\\ipykernel_launcher.py:22: UserWarning: D:\\_OUTPUT\\_RUNS\\RUN3_CP4.0.3\\01Primary\\siCTRL_20190524_Pos05_cl16\\Relabelled\\siCTRL_20190524_Pos05_cl16_Unet-label-116.png is a low contrast image\n",
      "C:\\Users\\debbi\\Anaconda3\\envs\\LiveAnalysis\\lib\\site-packages\\ipykernel_launcher.py:22: UserWarning: D:\\_OUTPUT\\_RUNS\\RUN3_CP4.0.3\\01Primary\\siCTRL_20190524_Pos05_cl16\\Relabelled\\siCTRL_20190524_Pos05_cl16_Unet-label-117.png is a low contrast image\n"
     ]
    },
    {
     "name": "stdout",
     "output_type": "stream",
     "text": [
      "Saved siCTRL_20190524_Pos05_cl16_Unet-label-116.png\n",
      "Saved siCTRL_20190524_Pos05_cl16_Unet-label-117.png\n"
     ]
    },
    {
     "name": "stderr",
     "output_type": "stream",
     "text": [
      "C:\\Users\\debbi\\Anaconda3\\envs\\LiveAnalysis\\lib\\site-packages\\ipykernel_launcher.py:22: UserWarning: D:\\_OUTPUT\\_RUNS\\RUN3_CP4.0.3\\01Primary\\siCTRL_20190524_Pos05_cl16\\Relabelled\\siCTRL_20190524_Pos05_cl16_Unet-label-118.png is a low contrast image\n",
      "C:\\Users\\debbi\\Anaconda3\\envs\\LiveAnalysis\\lib\\site-packages\\ipykernel_launcher.py:22: UserWarning: D:\\_OUTPUT\\_RUNS\\RUN3_CP4.0.3\\01Primary\\siCTRL_20190524_Pos05_cl16\\Relabelled\\siCTRL_20190524_Pos05_cl16_Unet-label-119.png is a low contrast image\n"
     ]
    },
    {
     "name": "stdout",
     "output_type": "stream",
     "text": [
      "Saved siCTRL_20190524_Pos05_cl16_Unet-label-118.png\n",
      "Saved siCTRL_20190524_Pos05_cl16_Unet-label-119.png\n",
      "Saved siCTRL_20190524_Pos05_cl16_Unet-label-120.png\n"
     ]
    },
    {
     "name": "stderr",
     "output_type": "stream",
     "text": [
      "C:\\Users\\debbi\\Anaconda3\\envs\\LiveAnalysis\\lib\\site-packages\\ipykernel_launcher.py:22: UserWarning: D:\\_OUTPUT\\_RUNS\\RUN3_CP4.0.3\\01Primary\\siCTRL_20190524_Pos05_cl16\\Relabelled\\siCTRL_20190524_Pos05_cl16_Unet-label-120.png is a low contrast image\n",
      "C:\\Users\\debbi\\Anaconda3\\envs\\LiveAnalysis\\lib\\site-packages\\ipykernel_launcher.py:22: UserWarning: D:\\_OUTPUT\\_RUNS\\RUN3_CP4.0.3\\01Primary\\siCTRL_20190524_Pos05_cl16\\Relabelled\\siCTRL_20190524_Pos05_cl16_Unet-label-121.png is a low contrast image\n"
     ]
    },
    {
     "name": "stdout",
     "output_type": "stream",
     "text": [
      "Saved siCTRL_20190524_Pos05_cl16_Unet-label-121.png\n",
      "Saved siCTRL_20190524_Pos05_cl16_Unet-label-122.png\n"
     ]
    },
    {
     "name": "stderr",
     "output_type": "stream",
     "text": [
      "C:\\Users\\debbi\\Anaconda3\\envs\\LiveAnalysis\\lib\\site-packages\\ipykernel_launcher.py:22: UserWarning: D:\\_OUTPUT\\_RUNS\\RUN3_CP4.0.3\\01Primary\\siCTRL_20190524_Pos05_cl16\\Relabelled\\siCTRL_20190524_Pos05_cl16_Unet-label-122.png is a low contrast image\n",
      "C:\\Users\\debbi\\Anaconda3\\envs\\LiveAnalysis\\lib\\site-packages\\ipykernel_launcher.py:22: UserWarning: D:\\_OUTPUT\\_RUNS\\RUN3_CP4.0.3\\01Primary\\siCTRL_20190524_Pos05_cl16\\Relabelled\\siCTRL_20190524_Pos05_cl16_Unet-label-123.png is a low contrast image\n",
      "C:\\Users\\debbi\\Anaconda3\\envs\\LiveAnalysis\\lib\\site-packages\\ipykernel_launcher.py:22: UserWarning: D:\\_OUTPUT\\_RUNS\\RUN3_CP4.0.3\\01Primary\\siCTRL_20190524_Pos05_cl16\\Relabelled\\siCTRL_20190524_Pos05_cl16_Unet-label-124.png is a low contrast image\n"
     ]
    },
    {
     "name": "stdout",
     "output_type": "stream",
     "text": [
      "Saved siCTRL_20190524_Pos05_cl16_Unet-label-123.png\n",
      "Saved siCTRL_20190524_Pos05_cl16_Unet-label-124.png\n"
     ]
    },
    {
     "name": "stderr",
     "output_type": "stream",
     "text": [
      "C:\\Users\\debbi\\Anaconda3\\envs\\LiveAnalysis\\lib\\site-packages\\ipykernel_launcher.py:22: UserWarning: D:\\_OUTPUT\\_RUNS\\RUN3_CP4.0.3\\01Primary\\siCTRL_20190524_Pos05_cl16\\Relabelled\\siCTRL_20190524_Pos05_cl16_Unet-label-125.png is a low contrast image\n"
     ]
    },
    {
     "name": "stdout",
     "output_type": "stream",
     "text": [
      "Saved siCTRL_20190524_Pos05_cl16_Unet-label-125.png\n",
      "Saved siCTRL_20190524_Pos05_cl16_Unet-label-126.png\n",
      "Saved siCTRL_20190524_Pos05_cl16_Unet-label-127.png\n"
     ]
    },
    {
     "name": "stderr",
     "output_type": "stream",
     "text": [
      "C:\\Users\\debbi\\Anaconda3\\envs\\LiveAnalysis\\lib\\site-packages\\ipykernel_launcher.py:22: UserWarning: D:\\_OUTPUT\\_RUNS\\RUN3_CP4.0.3\\01Primary\\siCTRL_20190524_Pos05_cl16\\Relabelled\\siCTRL_20190524_Pos05_cl16_Unet-label-126.png is a low contrast image\n",
      "C:\\Users\\debbi\\Anaconda3\\envs\\LiveAnalysis\\lib\\site-packages\\ipykernel_launcher.py:22: UserWarning: D:\\_OUTPUT\\_RUNS\\RUN3_CP4.0.3\\01Primary\\siCTRL_20190524_Pos05_cl16\\Relabelled\\siCTRL_20190524_Pos05_cl16_Unet-label-127.png is a low contrast image\n",
      "C:\\Users\\debbi\\Anaconda3\\envs\\LiveAnalysis\\lib\\site-packages\\ipykernel_launcher.py:22: UserWarning: D:\\_OUTPUT\\_RUNS\\RUN3_CP4.0.3\\01Primary\\siCTRL_20190524_Pos05_cl16\\Relabelled\\siCTRL_20190524_Pos05_cl16_Unet-label-128.png is a low contrast image\n",
      "C:\\Users\\debbi\\Anaconda3\\envs\\LiveAnalysis\\lib\\site-packages\\ipykernel_launcher.py:22: UserWarning: D:\\_OUTPUT\\_RUNS\\RUN3_CP4.0.3\\01Primary\\siCTRL_20190524_Pos05_cl16\\Relabelled\\siCTRL_20190524_Pos05_cl16_Unet-label-129.png is a low contrast image\n"
     ]
    },
    {
     "name": "stdout",
     "output_type": "stream",
     "text": [
      "Saved siCTRL_20190524_Pos05_cl16_Unet-label-128.png\n",
      "Saved siCTRL_20190524_Pos05_cl16_Unet-label-129.png\n"
     ]
    },
    {
     "name": "stderr",
     "output_type": "stream",
     "text": [
      "C:\\Users\\debbi\\Anaconda3\\envs\\LiveAnalysis\\lib\\site-packages\\ipykernel_launcher.py:22: UserWarning: D:\\_OUTPUT\\_RUNS\\RUN3_CP4.0.3\\01Primary\\siCTRL_20190524_Pos05_cl16\\Relabelled\\siCTRL_20190524_Pos05_cl16_Unet-label-130.png is a low contrast image\n",
      "C:\\Users\\debbi\\Anaconda3\\envs\\LiveAnalysis\\lib\\site-packages\\ipykernel_launcher.py:22: UserWarning: D:\\_OUTPUT\\_RUNS\\RUN3_CP4.0.3\\01Primary\\siCTRL_20190524_Pos05_cl16\\Relabelled\\siCTRL_20190524_Pos05_cl16_Unet-label-131.png is a low contrast image\n"
     ]
    },
    {
     "name": "stdout",
     "output_type": "stream",
     "text": [
      "Saved siCTRL_20190524_Pos05_cl16_Unet-label-130.png\n",
      "Saved siCTRL_20190524_Pos05_cl16_Unet-label-131.png\n"
     ]
    },
    {
     "name": "stderr",
     "output_type": "stream",
     "text": [
      "C:\\Users\\debbi\\Anaconda3\\envs\\LiveAnalysis\\lib\\site-packages\\ipykernel_launcher.py:22: UserWarning: D:\\_OUTPUT\\_RUNS\\RUN3_CP4.0.3\\01Primary\\siCTRL_20190524_Pos05_cl16\\Relabelled\\siCTRL_20190524_Pos05_cl16_Unet-label-132.png is a low contrast image\n",
      "C:\\Users\\debbi\\Anaconda3\\envs\\LiveAnalysis\\lib\\site-packages\\ipykernel_launcher.py:22: UserWarning: D:\\_OUTPUT\\_RUNS\\RUN3_CP4.0.3\\01Primary\\siCTRL_20190524_Pos05_cl16\\Relabelled\\siCTRL_20190524_Pos05_cl16_Unet-label-133.png is a low contrast image\n",
      "C:\\Users\\debbi\\Anaconda3\\envs\\LiveAnalysis\\lib\\site-packages\\ipykernel_launcher.py:22: UserWarning: D:\\_OUTPUT\\_RUNS\\RUN3_CP4.0.3\\01Primary\\siCTRL_20190524_Pos05_cl16\\Relabelled\\siCTRL_20190524_Pos05_cl16_Unet-label-134.png is a low contrast image\n"
     ]
    },
    {
     "name": "stdout",
     "output_type": "stream",
     "text": [
      "Saved siCTRL_20190524_Pos05_cl16_Unet-label-132.png\n",
      "Saved siCTRL_20190524_Pos05_cl16_Unet-label-133.png\n",
      "Saved siCTRL_20190524_Pos05_cl16_Unet-label-134.png\n"
     ]
    },
    {
     "name": "stderr",
     "output_type": "stream",
     "text": [
      "C:\\Users\\debbi\\Anaconda3\\envs\\LiveAnalysis\\lib\\site-packages\\ipykernel_launcher.py:22: UserWarning: D:\\_OUTPUT\\_RUNS\\RUN3_CP4.0.3\\01Primary\\siCTRL_20190524_Pos05_cl16\\Relabelled\\siCTRL_20190524_Pos05_cl16_Unet-label-135.png is a low contrast image\n",
      "C:\\Users\\debbi\\Anaconda3\\envs\\LiveAnalysis\\lib\\site-packages\\ipykernel_launcher.py:22: UserWarning: D:\\_OUTPUT\\_RUNS\\RUN3_CP4.0.3\\01Primary\\siCTRL_20190524_Pos05_cl16\\Relabelled\\siCTRL_20190524_Pos05_cl16_Unet-label-136.png is a low contrast image\n"
     ]
    },
    {
     "name": "stdout",
     "output_type": "stream",
     "text": [
      "Saved siCTRL_20190524_Pos05_cl16_Unet-label-135.png\n",
      "Saved siCTRL_20190524_Pos05_cl16_Unet-label-136.png\n"
     ]
    },
    {
     "name": "stderr",
     "output_type": "stream",
     "text": [
      "C:\\Users\\debbi\\Anaconda3\\envs\\LiveAnalysis\\lib\\site-packages\\ipykernel_launcher.py:22: UserWarning: D:\\_OUTPUT\\_RUNS\\RUN3_CP4.0.3\\01Primary\\siCTRL_20190524_Pos05_cl16\\Relabelled\\siCTRL_20190524_Pos05_cl16_Unet-label-137.png is a low contrast image\n",
      "C:\\Users\\debbi\\Anaconda3\\envs\\LiveAnalysis\\lib\\site-packages\\ipykernel_launcher.py:22: UserWarning: D:\\_OUTPUT\\_RUNS\\RUN3_CP4.0.3\\01Primary\\siCTRL_20190524_Pos05_cl16\\Relabelled\\siCTRL_20190524_Pos05_cl16_Unet-label-138.png is a low contrast image\n"
     ]
    },
    {
     "name": "stdout",
     "output_type": "stream",
     "text": [
      "Saved siCTRL_20190524_Pos05_cl16_Unet-label-137.png\n",
      "Saved siCTRL_20190524_Pos05_cl16_Unet-label-138.png\n"
     ]
    },
    {
     "name": "stderr",
     "output_type": "stream",
     "text": [
      "C:\\Users\\debbi\\Anaconda3\\envs\\LiveAnalysis\\lib\\site-packages\\ipykernel_launcher.py:22: UserWarning: D:\\_OUTPUT\\_RUNS\\RUN3_CP4.0.3\\01Primary\\siCTRL_20190524_Pos05_cl16\\Relabelled\\siCTRL_20190524_Pos05_cl16_Unet-label-139.png is a low contrast image\n"
     ]
    },
    {
     "name": "stdout",
     "output_type": "stream",
     "text": [
      "Saved siCTRL_20190524_Pos05_cl16_Unet-label-139.png\n",
      "Saved siCTRL_20190524_Pos05_cl16_Unet-label-140.png\n"
     ]
    },
    {
     "name": "stderr",
     "output_type": "stream",
     "text": [
      "C:\\Users\\debbi\\Anaconda3\\envs\\LiveAnalysis\\lib\\site-packages\\ipykernel_launcher.py:22: UserWarning: D:\\_OUTPUT\\_RUNS\\RUN3_CP4.0.3\\01Primary\\siCTRL_20190524_Pos05_cl16\\Relabelled\\siCTRL_20190524_Pos05_cl16_Unet-label-140.png is a low contrast image\n",
      "C:\\Users\\debbi\\Anaconda3\\envs\\LiveAnalysis\\lib\\site-packages\\ipykernel_launcher.py:22: UserWarning: D:\\_OUTPUT\\_RUNS\\RUN3_CP4.0.3\\01Primary\\siCTRL_20190524_Pos05_cl16\\Relabelled\\siCTRL_20190524_Pos05_cl16_Unet-label-141.png is a low contrast image\n"
     ]
    },
    {
     "name": "stdout",
     "output_type": "stream",
     "text": [
      "Saved siCTRL_20190524_Pos05_cl16_Unet-label-141.png\n",
      "Saved siCTRL_20190524_Pos05_cl16_Unet-label-142.png\n",
      "Saved siCTRL_20190524_Pos05_cl16_Unet-label-143.png\n"
     ]
    },
    {
     "name": "stderr",
     "output_type": "stream",
     "text": [
      "C:\\Users\\debbi\\Anaconda3\\envs\\LiveAnalysis\\lib\\site-packages\\ipykernel_launcher.py:22: UserWarning: D:\\_OUTPUT\\_RUNS\\RUN3_CP4.0.3\\01Primary\\siCTRL_20190524_Pos05_cl16\\Relabelled\\siCTRL_20190524_Pos05_cl16_Unet-label-142.png is a low contrast image\n",
      "C:\\Users\\debbi\\Anaconda3\\envs\\LiveAnalysis\\lib\\site-packages\\ipykernel_launcher.py:22: UserWarning: D:\\_OUTPUT\\_RUNS\\RUN3_CP4.0.3\\01Primary\\siCTRL_20190524_Pos05_cl16\\Relabelled\\siCTRL_20190524_Pos05_cl16_Unet-label-143.png is a low contrast image\n",
      "C:\\Users\\debbi\\Anaconda3\\envs\\LiveAnalysis\\lib\\site-packages\\ipykernel_launcher.py:22: UserWarning: D:\\_OUTPUT\\_RUNS\\RUN3_CP4.0.3\\01Primary\\siCTRL_20190524_Pos05_cl16\\Relabelled\\siCTRL_20190524_Pos05_cl16_Unet-label-144.png is a low contrast image\n"
     ]
    },
    {
     "name": "stdout",
     "output_type": "stream",
     "text": [
      "Saved siCTRL_20190524_Pos05_cl16_Unet-label-144.png\n",
      "Saved siCTRL_20190524_Pos05_cl16_Unet-label-145.png\n",
      "Saved siCTRL_20190524_Pos05_cl16_Unet-label-146.png\n"
     ]
    },
    {
     "name": "stderr",
     "output_type": "stream",
     "text": [
      "C:\\Users\\debbi\\Anaconda3\\envs\\LiveAnalysis\\lib\\site-packages\\ipykernel_launcher.py:22: UserWarning: D:\\_OUTPUT\\_RUNS\\RUN3_CP4.0.3\\01Primary\\siCTRL_20190524_Pos05_cl16\\Relabelled\\siCTRL_20190524_Pos05_cl16_Unet-label-145.png is a low contrast image\n",
      "C:\\Users\\debbi\\Anaconda3\\envs\\LiveAnalysis\\lib\\site-packages\\ipykernel_launcher.py:22: UserWarning: D:\\_OUTPUT\\_RUNS\\RUN3_CP4.0.3\\01Primary\\siCTRL_20190524_Pos05_cl16\\Relabelled\\siCTRL_20190524_Pos05_cl16_Unet-label-146.png is a low contrast image\n",
      "C:\\Users\\debbi\\Anaconda3\\envs\\LiveAnalysis\\lib\\site-packages\\ipykernel_launcher.py:22: UserWarning: D:\\_OUTPUT\\_RUNS\\RUN3_CP4.0.3\\01Primary\\siCTRL_20190524_Pos05_cl16\\Relabelled\\siCTRL_20190524_Pos05_cl16_Unet-label-147.png is a low contrast image\n"
     ]
    },
    {
     "name": "stdout",
     "output_type": "stream",
     "text": [
      "Saved siCTRL_20190524_Pos05_cl16_Unet-label-147.png\n",
      "Script complete!\n"
     ]
    }
   ],
   "source": [
    "colormap = np.array(['red', 'blue', 'yellow', 'magenta', 'green','indigo', 'darkorange', 'cyan', 'pink', 'yellowgreen'] * 20)\n",
    "\n",
    "\n",
    "\n",
    "\n",
    "print(\"Generating Image List\")\n",
    "imagelist = image_df['ObjectsFileName_NucleiUnet1'].tolist()\n",
    "generatedname = [segpath + i for i in imagelist]\n",
    "image_df['segfile'] = generatedname\n",
    "print(\"Processing images\")\n",
    "for index, row in image_df.iterrows():\n",
    "    inputimg = skimage.io.imread(row['segfile'])\n",
    "    outputimg = np.zeros_like(inputimg, dtype='uint16')\n",
    "    if int(row['Count_Nuclei']) > 0:\n",
    "        cellstolabel = main_df[main_df['ImageNumber'] == row['ImageNumber']]\n",
    "        for index2, cell in cellstolabel.iterrows():\n",
    "            boolarray = inputimg == int(cell['Number_Object_Number'])\n",
    "            newnumber = cell[labelfieldname]\n",
    "            if not math.isnan(newnumber):\n",
    "                outputimg[boolarray] = cell[labelfieldname]\n",
    "    \n",
    "    skimage.io.imsave(outputpath + row['ObjectsFileName_NucleiUnet1'], outputimg)\n",
    "    print(\"Saved \" + row['ObjectsFileName_NucleiUnet1'])\n",
    "    if wantRGB:\n",
    "        uniquelabels = np.unique(outputimg)[1:]\n",
    "        colorstouse = colormap[uniquelabels]\n",
    "        labelled = label2rgb(outputimg, image=None, colors=colorstouse, bg_label=0, bg_color=(0, 0, 0), kind='overlay')\n",
    "        skimage.io.imsave(outputpath + row['ObjectsFileName_NucleiUnet1'] + 'rgb.png', labelled)\n",
    "print(\"Script complete!\")"
   ]
  },
  {
   "cell_type": "code",
   "execution_count": null,
   "metadata": {},
   "outputs": [],
   "source": []
  }
 ],
 "metadata": {
  "kernelspec": {
   "display_name": "Python 3",
   "language": "python",
   "name": "python3"
  },
  "language_info": {
   "codemirror_mode": {
    "name": "ipython",
    "version": 3
   },
   "file_extension": ".py",
   "mimetype": "text/x-python",
   "name": "python",
   "nbconvert_exporter": "python",
   "pygments_lexer": "ipython3",
   "version": "3.7.9"
  },
  "toc": {
   "base_numbering": 1,
   "nav_menu": {},
   "number_sections": true,
   "sideBar": true,
   "skip_h1_title": false,
   "title_cell": "Table of Contents",
   "title_sidebar": "Contents",
   "toc_cell": false,
   "toc_position": {},
   "toc_section_display": true,
   "toc_window_display": false
  }
 },
 "nbformat": 4,
 "nbformat_minor": 2
}

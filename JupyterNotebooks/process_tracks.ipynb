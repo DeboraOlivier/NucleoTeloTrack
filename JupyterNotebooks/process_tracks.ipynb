{
 "cells": [
  {
   "cell_type": "markdown",
   "metadata": {},
   "source": [
    "Process tracks tables and align time points to Reference Time.\n",
    "\n",
    "The notebook includes step-by-step processing of tracks tabels obtained from CellProfiler. Functions used to process the tracks are written within the module trackprocessor.py."
   ]
  },
  {
   "cell_type": "markdown",
   "metadata": {},
   "source": [
    "# Importation"
   ]
  },
  {
   "cell_type": "code",
   "execution_count": 7,
   "metadata": {},
   "outputs": [],
   "source": [
    "# import neccessary packages\n",
    "import os\n",
    "import glob\n",
    "from pathlib import Path\n",
    "import numpy as np\n",
    "import pandas as pd\n",
    "import seaborn as sns\n",
    "import matplotlib as mpl\n",
    "import matplotlib.pyplot as plt\n",
    "from mpl_toolkits import mplot3d\n",
    "from tqdm import tqdm\n",
    "\n",
    "import networkx as nx\n",
    "from networkx.drawing.nx_agraph import to_agraph \n",
    "\n",
    "from skimage import measure\n",
    "\n",
    "from functools import partial\n",
    "import pathos.pools as pp\n",
    "\n",
    "import trackprocessor"
   ]
  },
  {
   "cell_type": "markdown",
   "metadata": {},
   "source": [
    "# Environment configuration"
   ]
  },
  {
   "cell_type": "code",
   "execution_count": 8,
   "metadata": {},
   "outputs": [],
   "source": [
    "%matplotlib notebook # maybe not useful"
   ]
  },
  {
   "cell_type": "code",
   "execution_count": 9,
   "metadata": {},
   "outputs": [],
   "source": [
    "plt.ioff() # turn interactive plotting off"
   ]
  },
  {
   "cell_type": "code",
   "execution_count": 10,
   "metadata": {},
   "outputs": [],
   "source": [
    "plt.rcParams.update({'figure.max_open_warning': 0}) # ignore max plotted figures warning"
   ]
  },
  {
   "cell_type": "markdown",
   "metadata": {},
   "source": [
    "# Parameters setting"
   ]
  },
  {
   "cell_type": "markdown",
   "metadata": {},
   "source": [
    "## Input folder"
   ]
  },
  {
   "cell_type": "code",
   "execution_count": 12,
   "metadata": {},
   "outputs": [],
   "source": [
    "# For Linux and MacOS, use \"/\" separators e.g \"/home/Output/ \n",
    "# For Windows, use \"\\\" separators e.g. \"D:\\_OUTPUT\\\n",
    "# base_input_path = r\"D:\\_OUTPUT\\_RUNS\\RUN_siNuMa\\CP_Output\"\n",
    "base_input_path = r\"/media/mphan/Data/Perso/Phan/LOB/NucleoTeloTrack/2020-09_RUN3_CP4.0.3\""
   ]
  },
  {
   "cell_type": "markdown",
   "metadata": {},
   "source": [
    "## Output folder"
   ]
  },
  {
   "cell_type": "code",
   "execution_count": 20,
   "metadata": {},
   "outputs": [],
   "source": [
    "# base_output_path = r\"D:\\_OUTPUT\\_RUNS\\RUN_siNuMa\\Analysis_Output\\\"\n",
    "base_output_path = r\"/media/mphan/Data/Perso/Phan/LOB/NucleoTeloTrack/Output\""
   ]
  },
  {
   "cell_type": "markdown",
   "metadata": {},
   "source": [
    "## Reading csv files from input folder"
   ]
  },
  {
   "cell_type": "code",
   "execution_count": 26,
   "metadata": {},
   "outputs": [
    {
     "name": "stdout",
     "output_type": "stream",
     "text": [
      "nb. of files: 84\n",
      "0 : /siCTRL_20190422_Pos02_cl7/Image.csv\n",
      "1 : /siCTRL_20190422_Pos02_cl7/Nuclei.csv\n",
      "2 : /siCTRL_20190422_Pos02_cl7/Telomere.csv\n",
      "3 : /siCTRL_20190422_Pos03_cl7/Image.csv\n",
      "4 : /siCTRL_20190422_Pos03_cl7/Nuclei.csv\n",
      "5 : /siCTRL_20190422_Pos03_cl7/Telomere.csv\n",
      "6 : /siCTRL_20190422_Pos04_cl7/Image.csv\n",
      "7 : /siCTRL_20190422_Pos04_cl7/Nuclei.csv\n",
      "8 : /siCTRL_20190422_Pos04_cl7/Telomere.csv\n",
      "9 : /siCTRL_20190422_Pos05_cl7/Image.csv\n",
      "10 : /siCTRL_20190422_Pos05_cl7/Nuclei.csv\n",
      "11 : /siCTRL_20190422_Pos05_cl7/Telomere.csv\n",
      "12 : /siCTRL_20190524_Pos01_cl16/Image.csv\n",
      "13 : /siCTRL_20190524_Pos01_cl16/Nuclei.csv\n",
      "14 : /siCTRL_20190524_Pos01_cl16/Telomere.csv\n",
      "15 : /siCTRL_20190524_Pos02_cl16/Image.csv\n",
      "16 : /siCTRL_20190524_Pos02_cl16/Nuclei.csv\n",
      "17 : /siCTRL_20190524_Pos02_cl16/Telomere.csv\n",
      "18 : /siCTRL_20190524_Pos03_cl16/Image.csv\n",
      "19 : /siCTRL_20190524_Pos03_cl16/Nuclei.csv\n",
      "20 : /siCTRL_20190524_Pos03_cl16/Telomere.csv\n",
      "21 : /siCTRL_20190524_Pos05_cl16/Image.csv\n",
      "22 : /siCTRL_20190524_Pos05_cl16/Nuclei.csv\n",
      "23 : /siCTRL_20190524_Pos05_cl16/Telomere.csv\n",
      "24 : /siCTRL_20191010_Pos01_cl7/Image.csv\n",
      "25 : /siCTRL_20191010_Pos01_cl7/Nuclei.csv\n",
      "26 : /siCTRL_20191010_Pos01_cl7/Telomere.csv\n",
      "27 : /siCTRL_20191010_Pos02_cl7/Image.csv\n",
      "28 : /siCTRL_20191010_Pos02_cl7/Nuclei.csv\n",
      "29 : /siCTRL_20191010_Pos02_cl7/Telomere.csv\n",
      "30 : /siCTRL_20191010_Pos03_cl7/Image.csv\n",
      "31 : /siCTRL_20191010_Pos03_cl7/Nuclei.csv\n",
      "32 : /siCTRL_20191010_Pos03_cl7/Telomere.csv\n",
      "33 : /siCTRL_20191010_Pos04_cl7/Image.csv\n",
      "34 : /siCTRL_20191010_Pos04_cl7/Nuclei.csv\n",
      "35 : /siCTRL_20191010_Pos04_cl7/Telomere.csv\n",
      "36 : /siNuMa_20190422_Pos06_cl7/Image.csv\n",
      "37 : /siNuMa_20190422_Pos06_cl7/Nuclei.csv\n",
      "38 : /siNuMa_20190422_Pos06_cl7/Telomere.csv\n",
      "39 : /siNuMa_20190422_Pos07_cl7/Image.csv\n",
      "40 : /siNuMa_20190422_Pos07_cl7/Nuclei.csv\n",
      "41 : /siNuMa_20190422_Pos07_cl7/Telomere.csv\n",
      "42 : /siNuMa_20190422_Pos08_cl7/Image.csv\n",
      "43 : /siNuMa_20190422_Pos08_cl7/Nuclei.csv\n",
      "44 : /siNuMa_20190422_Pos08_cl7/Telomere.csv\n",
      "45 : /siNuMa_20190422_Pos09_cl7/Image.csv\n",
      "46 : /siNuMa_20190422_Pos09_cl7/Nuclei.csv\n",
      "47 : /siNuMa_20190422_Pos09_cl7/Telomere.csv\n",
      "48 : /siNuMa_20190422_Pos10_cl7/Image.csv\n",
      "49 : /siNuMa_20190422_Pos10_cl7/Nuclei.csv\n",
      "50 : /siNuMa_20190422_Pos10_cl7/Telomere.csv\n",
      "51 : /siNuMa_20190524_Pos06_cl16/Image.csv\n",
      "52 : /siNuMa_20190524_Pos06_cl16/Nuclei.csv\n",
      "53 : /siNuMa_20190524_Pos06_cl16/Telomere.csv\n",
      "54 : /siNuMa_20190524_Pos08_cl16/Image.csv\n",
      "55 : /siNuMa_20190524_Pos08_cl16/Nuclei.csv\n",
      "56 : /siNuMa_20190524_Pos08_cl16/Telomere.csv\n",
      "57 : /siNuMa_20190524_Pos09_cl16/Image.csv\n",
      "58 : /siNuMa_20190524_Pos09_cl16/Nuclei.csv\n",
      "59 : /siNuMa_20190524_Pos09_cl16/Telomere.csv\n",
      "60 : /siNuMa_20190524_Pos10_cl16/Image.csv\n",
      "61 : /siNuMa_20190524_Pos10_cl16/Nuclei.csv\n",
      "62 : /siNuMa_20190524_Pos10_cl16/Telomere.csv\n",
      "63 : /siTNKS-siNuMa_20190705_Pos6_cl16/Image.csv\n",
      "64 : /siTNKS-siNuMa_20190705_Pos6_cl16/Nuclei.csv\n",
      "65 : /siTNKS-siNuMa_20190705_Pos6_cl16/Telomere.csv\n",
      "66 : /siTNKS-siNuMa_20190705_Pos7_cl16/Image.csv\n",
      "67 : /siTNKS-siNuMa_20190705_Pos7_cl16/Nuclei.csv\n",
      "68 : /siTNKS-siNuMa_20190705_Pos7_cl16/Telomere.csv\n",
      "69 : /siTNKS_20190705_Pos8_cl16/Image.csv\n",
      "70 : /siTNKS_20190705_Pos8_cl16/Nuclei.csv\n",
      "71 : /siTNKS_20190705_Pos8_cl16/Telomere.csv\n",
      "72 : /siTNKS_20191010_Pos05_cl7/Image.csv\n",
      "73 : /siTNKS_20191010_Pos05_cl7/Nuclei.csv\n",
      "74 : /siTNKS_20191010_Pos05_cl7/Telomere.csv\n",
      "75 : /siTNKS_20191010_Pos06_cl7/Image.csv\n",
      "76 : /siTNKS_20191010_Pos06_cl7/Nuclei.csv\n",
      "77 : /siTNKS_20191010_Pos06_cl7/Telomere.csv\n",
      "78 : /siTNKS_20191010_Pos07_cl7/Image.csv\n",
      "79 : /siTNKS_20191010_Pos07_cl7/Nuclei.csv\n",
      "80 : /siTNKS_20191010_Pos07_cl7/Telomere.csv\n",
      "81 : /siTNKS_20191010_Pos08_cl7/Image.csv\n",
      "82 : /siTNKS_20191010_Pos08_cl7/Nuclei.csv\n",
      "83 : /siTNKS_20191010_Pos08_cl7/Telomere.csv\n"
     ]
    }
   ],
   "source": [
    "glob_path = Path(base_input_path)\n",
    "input_files = [str(pp) for pp in glob_path.glob(\"**/*.csv\")]\n",
    "print(\"nb. of files:\",len(input_files))\n",
    "[print(i,\":\",input_files[i].split(base_input_path)[1]) for i in range(len(input_files))];"
   ]
  },
  {
   "cell_type": "code",
   "execution_count": 24,
   "metadata": {},
   "outputs": [
    {
     "name": "stdout",
     "output_type": "stream",
     "text": [
      "nb. of files: 84\n",
      "0 : /siCTRL_20190422_Pos02_cl7/Image.csv\n",
      "1 : /siCTRL_20190422_Pos02_cl7/Nuclei.csv\n",
      "2 : /siCTRL_20190422_Pos02_cl7/Telomere.csv\n",
      "3 : /siCTRL_20190422_Pos03_cl7/Image.csv\n",
      "4 : /siCTRL_20190422_Pos03_cl7/Nuclei.csv\n",
      "5 : /siCTRL_20190422_Pos03_cl7/Telomere.csv\n",
      "6 : /siCTRL_20190422_Pos04_cl7/Image.csv\n",
      "7 : /siCTRL_20190422_Pos04_cl7/Nuclei.csv\n",
      "8 : /siCTRL_20190422_Pos04_cl7/Telomere.csv\n",
      "9 : /siCTRL_20190422_Pos05_cl7/Image.csv\n",
      "10 : /siCTRL_20190422_Pos05_cl7/Nuclei.csv\n",
      "11 : /siCTRL_20190422_Pos05_cl7/Telomere.csv\n",
      "12 : /siCTRL_20190524_Pos01_cl16/Image.csv\n",
      "13 : /siCTRL_20190524_Pos01_cl16/Nuclei.csv\n",
      "14 : /siCTRL_20190524_Pos01_cl16/Telomere.csv\n",
      "15 : /siCTRL_20190524_Pos02_cl16/Image.csv\n",
      "16 : /siCTRL_20190524_Pos02_cl16/Nuclei.csv\n",
      "17 : /siCTRL_20190524_Pos02_cl16/Telomere.csv\n",
      "18 : /siCTRL_20190524_Pos03_cl16/Image.csv\n",
      "19 : /siCTRL_20190524_Pos03_cl16/Nuclei.csv\n",
      "20 : /siCTRL_20190524_Pos03_cl16/Telomere.csv\n",
      "21 : /siCTRL_20190524_Pos05_cl16/Image.csv\n",
      "22 : /siCTRL_20190524_Pos05_cl16/Nuclei.csv\n",
      "23 : /siCTRL_20190524_Pos05_cl16/Telomere.csv\n",
      "24 : /siCTRL_20191010_Pos01_cl7/Image.csv\n",
      "25 : /siCTRL_20191010_Pos01_cl7/Nuclei.csv\n",
      "26 : /siCTRL_20191010_Pos01_cl7/Telomere.csv\n",
      "27 : /siCTRL_20191010_Pos02_cl7/Image.csv\n",
      "28 : /siCTRL_20191010_Pos02_cl7/Nuclei.csv\n",
      "29 : /siCTRL_20191010_Pos02_cl7/Telomere.csv\n",
      "30 : /siCTRL_20191010_Pos03_cl7/Image.csv\n",
      "31 : /siCTRL_20191010_Pos03_cl7/Nuclei.csv\n",
      "32 : /siCTRL_20191010_Pos03_cl7/Telomere.csv\n",
      "33 : /siCTRL_20191010_Pos04_cl7/Image.csv\n",
      "34 : /siCTRL_20191010_Pos04_cl7/Nuclei.csv\n",
      "35 : /siCTRL_20191010_Pos04_cl7/Telomere.csv\n",
      "36 : /siNuMa_20190422_Pos06_cl7/Image.csv\n",
      "37 : /siNuMa_20190422_Pos06_cl7/Nuclei.csv\n",
      "38 : /siNuMa_20190422_Pos06_cl7/Telomere.csv\n",
      "39 : /siNuMa_20190422_Pos07_cl7/Image.csv\n",
      "40 : /siNuMa_20190422_Pos07_cl7/Nuclei.csv\n",
      "41 : /siNuMa_20190422_Pos07_cl7/Telomere.csv\n",
      "42 : /siNuMa_20190422_Pos08_cl7/Image.csv\n",
      "43 : /siNuMa_20190422_Pos08_cl7/Nuclei.csv\n",
      "44 : /siNuMa_20190422_Pos08_cl7/Telomere.csv\n",
      "45 : /siNuMa_20190422_Pos09_cl7/Image.csv\n",
      "46 : /siNuMa_20190422_Pos09_cl7/Nuclei.csv\n",
      "47 : /siNuMa_20190422_Pos09_cl7/Telomere.csv\n",
      "48 : /siNuMa_20190422_Pos10_cl7/Image.csv\n",
      "49 : /siNuMa_20190422_Pos10_cl7/Nuclei.csv\n",
      "50 : /siNuMa_20190422_Pos10_cl7/Telomere.csv\n",
      "51 : /siNuMa_20190524_Pos06_cl16/Image.csv\n",
      "52 : /siNuMa_20190524_Pos06_cl16/Nuclei.csv\n",
      "53 : /siNuMa_20190524_Pos06_cl16/Telomere.csv\n",
      "54 : /siNuMa_20190524_Pos08_cl16/Image.csv\n",
      "55 : /siNuMa_20190524_Pos08_cl16/Nuclei.csv\n",
      "56 : /siNuMa_20190524_Pos08_cl16/Telomere.csv\n",
      "57 : /siNuMa_20190524_Pos09_cl16/Image.csv\n",
      "58 : /siNuMa_20190524_Pos09_cl16/Nuclei.csv\n",
      "59 : /siNuMa_20190524_Pos09_cl16/Telomere.csv\n",
      "60 : /siNuMa_20190524_Pos10_cl16/Image.csv\n",
      "61 : /siNuMa_20190524_Pos10_cl16/Nuclei.csv\n",
      "62 : /siNuMa_20190524_Pos10_cl16/Telomere.csv\n",
      "63 : /siTNKS-siNuMa_20190705_Pos6_cl16/Image.csv\n",
      "64 : /siTNKS-siNuMa_20190705_Pos6_cl16/Nuclei.csv\n",
      "65 : /siTNKS-siNuMa_20190705_Pos6_cl16/Telomere.csv\n",
      "66 : /siTNKS-siNuMa_20190705_Pos7_cl16/Image.csv\n",
      "67 : /siTNKS-siNuMa_20190705_Pos7_cl16/Nuclei.csv\n",
      "68 : /siTNKS-siNuMa_20190705_Pos7_cl16/Telomere.csv\n",
      "69 : /siTNKS_20190705_Pos8_cl16/Image.csv\n",
      "70 : /siTNKS_20190705_Pos8_cl16/Nuclei.csv\n",
      "71 : /siTNKS_20190705_Pos8_cl16/Telomere.csv\n",
      "72 : /siTNKS_20191010_Pos05_cl7/Image.csv\n",
      "73 : /siTNKS_20191010_Pos05_cl7/Nuclei.csv\n",
      "74 : /siTNKS_20191010_Pos05_cl7/Telomere.csv\n",
      "75 : /siTNKS_20191010_Pos06_cl7/Image.csv\n",
      "76 : /siTNKS_20191010_Pos06_cl7/Nuclei.csv\n",
      "77 : /siTNKS_20191010_Pos06_cl7/Telomere.csv\n",
      "78 : /siTNKS_20191010_Pos07_cl7/Image.csv\n",
      "79 : /siTNKS_20191010_Pos07_cl7/Nuclei.csv\n",
      "80 : /siTNKS_20191010_Pos07_cl7/Telomere.csv\n",
      "81 : /siTNKS_20191010_Pos08_cl7/Image.csv\n",
      "82 : /siTNKS_20191010_Pos08_cl7/Nuclei.csv\n",
      "83 : /siTNKS_20191010_Pos08_cl7/Telomere.csv\n"
     ]
    }
   ],
   "source": [
    "# Create \"Movies\" subfolder\n",
    "base_output_spath = os.path.join(base_output_path,\"Movies\")\n",
    "if not os.path.exists(base_output_spath):\n",
    "    os.makedirs(base_output_spath)\n",
    "\n",
    "input_files = glob.glob(os.path.join(base_input_path,\"**/*.csv\"),recursive=True)\n",
    "print(\"nb. of files:\",len(input_files))\n",
    "[print(i,\":\",input_files[i].split(base_input_path)[1]) for i in range(len(input_files))];"
   ]
  },
  {
   "cell_type": "markdown",
   "metadata": {},
   "source": [
    "## State transistions"
   ]
  },
  {
   "cell_type": "code",
   "execution_count": null,
   "metadata": {},
   "outputs": [],
   "source": [
    "# Define state transistions\n",
    "state_labels = [\"interphase\",\"prophase\",\"prometaphase\",\"metaphase\",\"anaphase\"]\n",
    "numbers = np.arange(len(state_labels))+1 # the number is assigned automatically in increasing order from 1\n",
    "state_numbers = pd.Series(index=state_labels,data=numbers)\n",
    "print(state_numbers);"
   ]
  },
  {
   "cell_type": "markdown",
   "metadata": {},
   "source": [
    "## Transistion rule graph"
   ]
  },
  {
   "cell_type": "code",
   "execution_count": null,
   "metadata": {},
   "outputs": [],
   "source": [
    "# Initialize graph with multiple directions\n",
    "G=nx.OrderedMultiDiGraph() # this graph type keeps order of input nodes\n",
    "\n",
    "# Add nodes\n",
    "G.add_nodes_from(state_labels);\n",
    "\n",
    "# Add self transistions\n",
    "G.add_edges_from(list(zip(state_labels,state_labels)));\n",
    "\n",
    "# Define transistion here\n",
    "G.add_edges_from([(\"interphase\",item) for item in [\"prophase\",\"prometaphase\"]]);\n",
    "G.add_edges_from([(\"prophase\",item) for item in [\"interphase\",\"prometaphase\",\"metaphase\"]]);\n",
    "G.add_edges_from([(\"prometaphase\",item) for item in [\"interphase\",\"prophase\",\"metaphase\"]]);\n",
    "G.add_edges_from([(\"metaphase\",item) for item in [\"prometaphase\",\"anaphase\"]]);\n",
    "G.add_edges_from([(\"anaphase\",item) for item in [\"interphase\"]]);"
   ]
  },
  {
   "cell_type": "code",
   "execution_count": null,
   "metadata": {},
   "outputs": [],
   "source": [
    "# Save fig\n",
    "fig = plt.figure(figsize=(10,7))\n",
    "ax = fig.add_subplot(111)\n",
    "pos = nx.circular_layout(G)\n",
    "nx.draw_networkx(G, pos=pos, ax=ax, width=1, arrowsize=20, \n",
    "                 min_source_margin=50, min_target_margin=50,\n",
    "                 node_shape=\"s\", node_color=\"none\")\n",
    "fig.savefig(os.path.join(base_output_path,\"transistion_rule.png\"))\n",
    "plt.tight_layout();"
   ]
  },
  {
   "cell_type": "markdown",
   "metadata": {},
   "source": [
    "## Excluded border conditions"
   ]
  },
  {
   "cell_type": "code",
   "execution_count": null,
   "metadata": {},
   "outputs": [],
   "source": [
    "# Define exclude border condition\n",
    "# criterion can be \"bbox\" or \"circle\"\n",
    "# if criterion is \"circle\", you can set percentage, e.g. \"percentage\":0.8 means take 80% of circle area\n",
    "exclude_borderobjs_conds = {\"criterion\":\"bbox\"}"
   ]
  },
  {
   "cell_type": "markdown",
   "metadata": {},
   "source": [
    "## Alignment conditions"
   ]
  },
  {
   "cell_type": "markdown",
   "metadata": {},
   "source": [
    "1st order: if the track goes through metapahse then use the last metapahse  as time 0 \n",
    "2nd order: if the track starts with anaphase, then assign time point 1 \n",
    "**NOTE: can change this alignment for reversine or prophase as reference time"
   ]
  },
  {
   "cell_type": "code",
   "execution_count": null,
   "metadata": {},
   "outputs": [],
   "source": [
    "# Define rule for aligning time points\n",
    "align_conds={\"state_numbers\":[state_numbers[\"metaphase\"],state_numbers[\"anaphase\"]],\n",
    "             \"align_modes\":[\"last\",\"first\"],\n",
    "             \"shifts\":[0,1]}"
   ]
  },
  {
   "cell_type": "markdown",
   "metadata": {},
   "source": [
    "## Features"
   ]
  },
  {
   "cell_type": "code",
   "execution_count": null,
   "metadata": {},
   "outputs": [],
   "source": [
    "# Define features will be added after alignment\n",
    "features = [\"ImageNumber\",\"ObjectNumber\",\"TrackObjects_Label\",\n",
    "            \"AreaShape_Area\",\n",
    "            \"AreaShape_Perimeter\",\n",
    "            \"AreaShape_FormFactor\",\n",
    "            \"Intensity_IntegratedIntensity_H2B_Smooth\",\n",
    "            \"Intensity_IntegratedIntensity_TRF1_Smooth\",\n",
    "            \"Intensity_MeanIntensity_H2B_Smooth\",\n",
    "            \"Intensity_MeanIntensity_TRF1_Smooth\",\n",
    "            \"Mean_Telomere_AreaShape_Area\",\n",
    "            \"Mean_Telomere_AreaShape_Perimeter\",\n",
    "            \"Mean_Telomere_Distance_Minimum_Nuclei\",\n",
    "            \"Mean_Telomere_Distance_Centroid_Nuclei\",\n",
    "            \"Mean_Telomere_Intensity_IntegratedIntensity_TRF1_Smooth\",\n",
    "            \"Children_Telomere_Count\"]"
   ]
  },
  {
   "cell_type": "markdown",
   "metadata": {},
   "source": [
    "# Test a case specific\n",
    "\n",
    "This is used to test one file before runing all files. Otherwise, go to next section."
   ]
  },
  {
   "cell_type": "raw",
   "metadata": {},
   "source": [
    "# Set input file\n",
    "f = input_files[1]\n",
    "print(\"File:\\n\",f.split(base_input_path)[1])\n",
    "\n",
    "output_path = os.path.join(base_output_spath,f.split(base_input_path)[1].split('.csv')[0])\n",
    "print(\"Output_path:\\n\",output_path)\n",
    "\n",
    "print(\"Processing...\")\n",
    "telomere.process_data(f,output_path,features,G,exclude_borderobjs_conds=exclude_borderobjs_conds,align_conds=align_conds)\n",
    "print(\"Done!.\")"
   ]
  },
  {
   "cell_type": "raw",
   "metadata": {},
   "source": [
    "# process all files\n",
    "# note: use parallel computing instead (next section) to speed up computation\n",
    "for f in tqdm(input_files):\n",
    "    output_path = base_output_path+f.split(base_input_path)[1].split('.csv')[0]\n",
    "    process_data(f,output_path,G,30)"
   ]
  },
  {
   "cell_type": "markdown",
   "metadata": {},
   "source": [
    "# Parallel computing"
   ]
  },
  {
   "cell_type": "code",
   "execution_count": null,
   "metadata": {},
   "outputs": [],
   "source": [
    "import dill\n",
    "dill.settings['recurse'] = True"
   ]
  },
  {
   "cell_type": "code",
   "execution_count": null,
   "metadata": {},
   "outputs": [],
   "source": [
    "maxcpu = 18\n",
    "pool = pp.ProcessPool(min(len(input_files),maxcpu))\n",
    "print(\"nb. of allocated cpus:\",pool.ncpus)"
   ]
  },
  {
   "cell_type": "code",
   "execution_count": null,
   "metadata": {},
   "outputs": [],
   "source": [
    "def compact_func(f,base_input_path,base_output_spath,\n",
    "                 features,transistion_graph,\n",
    "                 nrows_limit,min_nb_timepoints,\n",
    "                 exclude_borderobjs_conds,align_conds):\n",
    "    \n",
    "    # configure output path\n",
    "    output_path = os.path.join(base_output_spath,f.split(base_input_path)[1].split('.csv')[0])\n",
    "    \n",
    "    telomere.process_data(f,output_path,features,transistion_graph,\n",
    "                          nrows_limit,min_nb_timepoints,\n",
    "                          exclude_borderobjs_conds,align_conds)"
   ]
  },
  {
   "cell_type": "code",
   "execution_count": null,
   "metadata": {},
   "outputs": [],
   "source": [
    "partial_func = partial(compact_func,\n",
    "                       base_input_path=base_input_path,base_output_spath=base_output_spath,\n",
    "                       features=features,transistion_graph=G,\n",
    "                       nrows_limit=30,min_nb_timepoints=5,\n",
    "                       exclude_borderobjs_conds=exclude_borderobjs_conds,align_conds=align_conds)"
   ]
  },
  {
   "cell_type": "code",
   "execution_count": null,
   "metadata": {},
   "outputs": [],
   "source": [
    "%%time\n",
    "result = pool.map(partial_func,input_files)"
   ]
  },
  {
   "cell_type": "code",
   "execution_count": null,
   "metadata": {},
   "outputs": [],
   "source": []
  }
 ],
 "metadata": {
  "kernelspec": {
   "display_name": "Python 3",
   "language": "python",
   "name": "python3"
  },
  "language_info": {
   "codemirror_mode": {
    "name": "ipython",
    "version": 3
   },
   "file_extension": ".py",
   "mimetype": "text/x-python",
   "name": "python",
   "nbconvert_exporter": "python",
   "pygments_lexer": "ipython3",
   "version": "3.6.12"
  },
  "toc": {
   "base_numbering": 1,
   "nav_menu": {},
   "number_sections": true,
   "sideBar": true,
   "skip_h1_title": false,
   "title_cell": "Table of Contents",
   "title_sidebar": "Contents",
   "toc_cell": false,
   "toc_position": {
    "height": "calc(100% - 180px)",
    "left": "10px",
    "top": "150px",
    "width": "173px"
   },
   "toc_section_display": true,
   "toc_window_display": true
  },
  "varInspector": {
   "cols": {
    "lenName": 16,
    "lenType": 16,
    "lenVar": 40
   },
   "kernels_config": {
    "python": {
     "delete_cmd_postfix": "",
     "delete_cmd_prefix": "del ",
     "library": "var_list.py",
     "varRefreshCmd": "print(var_dic_list())"
    },
    "r": {
     "delete_cmd_postfix": ") ",
     "delete_cmd_prefix": "rm(",
     "library": "var_list.r",
     "varRefreshCmd": "cat(var_dic_list()) "
    }
   },
   "types_to_exclude": [
    "module",
    "function",
    "builtin_function_or_method",
    "instance",
    "_Feature"
   ],
   "window_display": false
  }
 },
 "nbformat": 4,
 "nbformat_minor": 4
}

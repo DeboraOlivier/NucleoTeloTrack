{
 "cells": [
  {
   "cell_type": "markdown",
   "metadata": {},
   "source": [
    "# How to use this notebook"
   ]
  },
  {
   "cell_type": "markdown",
   "metadata": {},
   "source": [
    "**For a test run**: \n",
    "- In \"Kernel\" select \"Restart and Clear Output\"\n",
    "- then use Shift + Enter to run the individual cells after setting them up\n",
    "\n",
    "**if all cells are correctly set up**: just press \"Run\"\n",
    "\n",
    "\n",
    "This notebook processes the output from CellProfiler (CSV table with the track data & measurements) and aligns the tracks according to a reference time.\n",
    "\n",
    "The notebook includes step-by-step processing of tracks tabels obtained from CellProfiler. \n",
    "Functions used to process the tracks are written within the module trackprocessor.py."
   ]
  },
  {
   "cell_type": "markdown",
   "metadata": {},
   "source": [
    "# Import Required Packages"
   ]
  },
  {
   "cell_type": "code",
   "execution_count": 1,
   "metadata": {},
   "outputs": [],
   "source": [
    "# import neccessary packages\n",
    "import os\n",
    "import glob\n",
    "import numpy as np\n",
    "import pandas as pd\n",
    "import seaborn as sns\n",
    "import matplotlib as mpl\n",
    "import matplotlib.pyplot as plt\n",
    "from mpl_toolkits import mplot3d\n",
    "from tqdm import tqdm\n",
    "\n",
    "import networkx as nx\n",
    "from networkx.drawing.nx_agraph import to_agraph \n",
    "\n",
    "from skimage import measure\n",
    "\n",
    "from functools import partial\n",
    "import pathos.pools as pp\n",
    "import dill\n",
    "\n",
    "import trackprocessor"
   ]
  },
  {
   "cell_type": "markdown",
   "metadata": {},
   "source": [
    "# Environment configuration"
   ]
  },
  {
   "cell_type": "code",
   "execution_count": 2,
   "metadata": {},
   "outputs": [],
   "source": [
    "%matplotlib notebook"
   ]
  },
  {
   "cell_type": "code",
   "execution_count": 3,
   "metadata": {},
   "outputs": [],
   "source": [
    "plt.ioff() # turn interactive plotting off"
   ]
  },
  {
   "cell_type": "code",
   "execution_count": 4,
   "metadata": {},
   "outputs": [],
   "source": [
    "plt.rcParams.update({'figure.max_open_warning': 0}) # ignore max plotted figures warning"
   ]
  },
  {
   "cell_type": "code",
   "execution_count": 5,
   "metadata": {},
   "outputs": [],
   "source": [
    "dill.settings['recurse'] = True"
   ]
  },
  {
   "cell_type": "markdown",
   "metadata": {},
   "source": [
    "# Parameters setting"
   ]
  },
  {
   "cell_type": "markdown",
   "metadata": {},
   "source": [
    "## Input and output folders"
   ]
  },
  {
   "cell_type": "code",
   "execution_count": 6,
   "metadata": {},
   "outputs": [],
   "source": [
    "# NOTE: do not enclose the path string by a seperator (\"\\\" for Windows or \"/\" for Linux or MacOS)\n",
    "# Windows example: C:\\blabla\\blabla\n",
    "# Linux or MacOs example: /home/blabla/blabla\n",
    "base_input_path = r\"E:\\_OUTPUT\\_RUNS\\RUN_AuroraInhibitor\\CP_Output\"\n",
    "base_output_path = r\"E:\\_OUTPUT\\_RUNS\\RUN_AuroraInhibitor\\Analysis_Output\""
   ]
  },
  {
   "cell_type": "markdown",
   "metadata": {},
   "source": [
    "## Reading csv files from input folder"
   ]
  },
  {
   "cell_type": "code",
   "execution_count": 7,
   "metadata": {
    "scrolled": true
   },
   "outputs": [
    {
     "name": "stdout",
     "output_type": "stream",
     "text": [
      "nb. of files: 24\n",
      "0 : \\AuroraInhibitor_20200806_Pos06_cl16\\Image.csv\n",
      "1 : \\AuroraInhibitor_20200806_Pos06_cl16\\Nuclei.csv\n",
      "2 : \\AuroraInhibitor_20200806_Pos06_cl16\\Telomere.csv\n",
      "3 : \\AuroraInhibitor_20200806_Pos07_cl16\\Image.csv\n",
      "4 : \\AuroraInhibitor_20200806_Pos07_cl16\\Nuclei.csv\n",
      "5 : \\AuroraInhibitor_20200806_Pos07_cl16\\Telomere.csv\n",
      "6 : \\AuroraInhibitor_20200806_Pos08_cl16\\Image.csv\n",
      "7 : \\AuroraInhibitor_20200806_Pos08_cl16\\Nuclei.csv\n",
      "8 : \\AuroraInhibitor_20200806_Pos08_cl16\\Telomere.csv\n",
      "9 : \\AuroraInhibitor_20200806_Pos09_cl16\\Image.csv\n",
      "10 : \\AuroraInhibitor_20200806_Pos09_cl16\\Nuclei.csv\n",
      "11 : \\AuroraInhibitor_20200806_Pos09_cl16\\Telomere.csv\n",
      "12 : \\DMSO_20200806_Pos02_cl16\\Image.csv\n",
      "13 : \\DMSO_20200806_Pos02_cl16\\Nuclei.csv\n",
      "14 : \\DMSO_20200806_Pos02_cl16\\Telomere.csv\n",
      "15 : \\DMSO_20200806_Pos03_cl16\\Image.csv\n",
      "16 : \\DMSO_20200806_Pos03_cl16\\Nuclei.csv\n",
      "17 : \\DMSO_20200806_Pos03_cl16\\Telomere.csv\n",
      "18 : \\DMSO_20200806_Pos04_cl16\\Image.csv\n",
      "19 : \\DMSO_20200806_Pos04_cl16\\Nuclei.csv\n",
      "20 : \\DMSO_20200806_Pos04_cl16\\Telomere.csv\n",
      "21 : \\DMSO_20200806_Pos05_cl16\\Image.csv\n",
      "22 : \\DMSO_20200806_Pos05_cl16\\Nuclei.csv\n",
      "23 : \\DMSO_20200806_Pos05_cl16\\Telomere.csv\n"
     ]
    }
   ],
   "source": [
    "# Create \"Movies\" subfolder\n",
    "base_output_spath = os.path.join(base_output_path,\"Movies\")\n",
    "if not os.path.exists(base_output_spath):\n",
    "    os.makedirs(base_output_spath)\n",
    "\n",
    "# Read all csv file from folder\n",
    "input_files = glob.glob(os.path.join(base_input_path,\"**/*.csv\"),recursive=True)\n",
    "print(\"nb. of files:\",len(input_files))\n",
    "[print(i,\":\",input_files[i].split(base_input_path)[1]) for i in range(len(input_files))];"
   ]
  },
  {
   "cell_type": "markdown",
   "metadata": {},
   "source": [
    "## State transistions labels"
   ]
  },
  {
   "cell_type": "markdown",
   "metadata": {},
   "source": [
    "**State labels** are defined as the classification labels assigned by the CellProfiler pipeline.\n",
    "In our case, we used 5 labels: interphase, prophase, prometaphase, metaphase and anaphase.\n",
    "Each label will have a unique **state number** which will be use to define the **state transition** from one to the other using the **transition rule graph (section 2.3)**\n",
    "\n",
    "However, it is possible to have more than 5 labels and then change the transition rule graph accordingly."
   ]
  },
  {
   "cell_type": "code",
   "execution_count": 8,
   "metadata": {},
   "outputs": [
    {
     "name": "stdout",
     "output_type": "stream",
     "text": [
      "interphase      1\n",
      "prophase        2\n",
      "prometaphase    3\n",
      "metaphase       4\n",
      "anaphase        5\n",
      "dtype: int32\n"
     ]
    }
   ],
   "source": [
    "# Define state transistions\n",
    "state_labels = [\"interphase\",\"prophase\",\"prometaphase\",\"metaphase\",\"anaphase\"]\n",
    "numbers = np.arange(len(state_labels))+1 # the number is assigned automatically in increasing order from 1\n",
    "state_numbers = pd.Series(index=state_labels,data=numbers)\n",
    "print(state_numbers);"
   ]
  },
  {
   "cell_type": "markdown",
   "metadata": {},
   "source": [
    "## Transistion rule graph"
   ]
  },
  {
   "cell_type": "markdown",
   "metadata": {},
   "source": [
    "Below you can define the authorized transitions. For instance/\n",
    "\n",
    "**interphase** can transition to **prophase** or **prometaphase** but not to other states.\n",
    "\n",
    "You can sequentially define all authorised transitions and review them in the graph that will be saved"
   ]
  },
  {
   "cell_type": "code",
   "execution_count": 9,
   "metadata": {},
   "outputs": [],
   "source": [
    "# Initialize graph with multiple directions\n",
    "G=nx.OrderedMultiDiGraph() # this graph type keeps order of input nodes\n",
    "\n",
    "# Add nodes\n",
    "G.add_nodes_from(state_labels);\n",
    "\n",
    "# Add self transistions\n",
    "G.add_edges_from(list(zip(state_labels,state_labels)));\n",
    "\n",
    "# Define transistion rules\n",
    "G.add_edges_from([(\"interphase\",item) for item in [\"interphase\",\"prophase\",\"prometaphase\"]]);\n",
    "G.add_edges_from([(\"prophase\",item) for item in [\"interphase\",\"prometaphase\",\"metaphase\"]]);\n",
    "G.add_edges_from([(\"prometaphase\",item) for item in [\"interphase\",\"prophase\",\"metaphase\"]]);\n",
    "G.add_edges_from([(\"metaphase\",item) for item in [\"prometaphase\",\"anaphase\"]]);\n",
    "G.add_edges_from([(\"anaphase\",item) for item in [\"interphase\"]]);"
   ]
  },
  {
   "cell_type": "code",
   "execution_count": 10,
   "metadata": {},
   "outputs": [],
   "source": [
    "# Save fig\n",
    "fig = plt.figure(figsize=(10,7))\n",
    "ax = fig.add_subplot(111)\n",
    "pos = nx.circular_layout(G)\n",
    "nx.draw_networkx(G, pos=pos, ax=ax, width=1, arrowsize=20, \n",
    "                 min_source_margin=50, min_target_margin=50,\n",
    "                 node_shape=\"s\", node_color=\"none\")\n",
    "fig.savefig(os.path.join(base_output_path,\"transistion_rule.png\"))\n",
    "plt.tight_layout();"
   ]
  },
  {
   "cell_type": "markdown",
   "metadata": {},
   "source": [
    "## Excluded border conditions"
   ]
  },
  {
   "cell_type": "markdown",
   "metadata": {},
   "source": [
    "2 options to remove objects touching the border:\n",
    "1. **circle (percentage argument)**: for _CellProfiler version <4.0_, using parameters \"AreaShape_Center_X\", \"AreaShape_Center_Y\", \"AreaShape_MinorAxisLength\", \"AreaShape_MajorAxisLength\".\n",
    "This method will approximate the object as a circle based on the parameters above and the user can specify a cutoff percentage for which the object will be excluded. For instance, if the criteria is circle with 0.8, it means object where <80% of the area is in the frame will be excluded (ie 20% of object is outside of the frame).\n",
    "\n",
    "\n",
    "\n",
    "2. **Bounding Box**: for _CellProfiler versions >4.0_; the BoundingBoxMaximum and BoundingBoxMinimum coordinates were added in the v4.0 and can be used to remove objects whose coordinates intersect with image boundaries"
   ]
  },
  {
   "cell_type": "code",
   "execution_count": 11,
   "metadata": {},
   "outputs": [],
   "source": [
    "# Define exclude border condition\n",
    "# criterion can be \"bbox\" or \"circle\"\n",
    "# if criterion is bbox: {\"criterion\":\"bbox\"}\n",
    "# if criterion is \"circle\", you can set percentage, e.g. {\"criterion\":\"circle\", \"percentage\":0.8} means take 80% of circle area\n",
    "exclude_borderobjs_conds = {\"criterion\":\"bbox\"}"
   ]
  },
  {
   "cell_type": "markdown",
   "metadata": {},
   "source": [
    "## Alignment conditions"
   ]
  },
  {
   "cell_type": "markdown",
   "metadata": {},
   "source": [
    "1st order: if the track goes through metapahse then use the last metaphase as time 0 \n",
    "2nd order: if the track starts with anaphase, then assign time point 1 \n",
    "\n",
    "\n",
    "**NOTE**: can change this alignment for reversine or prophase as reference time\n"
   ]
  },
  {
   "cell_type": "code",
   "execution_count": 12,
   "metadata": {},
   "outputs": [],
   "source": [
    "# Define rule for aligning time points\n",
    "align_conds={\"state_numbers\":[state_numbers[\"metaphase\"],state_numbers[\"anaphase\"]],\n",
    "             \"align_modes\":[\"last\",\"first\"],\n",
    "             \"shifts\":[0,1]}"
   ]
  },
  {
   "cell_type": "raw",
   "metadata": {},
   "source": [
    "#PROPHASE as Reference time - set cell as \"Code\" if want to use it or set as \"RawNBConvert\" if don't want to use it\n",
    "             \"align_modes\":[\"last\"],\n",
    "             \"shifts\":[0]}"
   ]
  },
  {
   "cell_type": "markdown",
   "metadata": {},
   "source": [
    "## Features"
   ]
  },
  {
   "cell_type": "code",
   "execution_count": 13,
   "metadata": {},
   "outputs": [],
   "source": [
    "# Define features will be added after alignment\n",
    "features = [\"ImageNumber\",\"ObjectNumber\",\"TrackObjects_Label\",\n",
    "            \"AreaShape_Area\",\n",
    "            \"AreaShape_Perimeter\",\n",
    "            \"AreaShape_FormFactor\",\n",
    "            \"Intensity_IntegratedIntensity_H2B_Smooth\",\n",
    "            \"Intensity_IntegratedIntensity_TRF1_Smooth\",\n",
    "            \"Intensity_MeanIntensity_H2B_Smooth\",\n",
    "            \"Intensity_MeanIntensity_TRF1_Smooth\",\n",
    "            \"Mean_Telomere_AreaShape_Area\",\n",
    "            \"Mean_Telomere_AreaShape_Perimeter\",\n",
    "            \"Mean_Telomere_Distance_Minimum_Nuclei\",\n",
    "            \"Mean_Telomere_Distance_Centroid_Nuclei\",\n",
    "            \"Mean_Telomere_Intensity_IntegratedIntensity_TRF1_Smooth\",\n",
    "            \"Children_Telomere_Count\"]"
   ]
  },
  {
   "cell_type": "markdown",
   "metadata": {},
   "source": [
    "# Processing"
   ]
  },
  {
   "cell_type": "markdown",
   "metadata": {},
   "source": [
    "## Process a specific file\n",
    "\n",
    "This is used to rerun or test a specific file. Set following 2 cells as \"Code\" if want to run or \"Raw NBConvert\" if don't want to.\n",
    "\n",
    "Otherwise, go to the next section."
   ]
  },
  {
   "cell_type": "raw",
   "metadata": {},
   "source": [
    "# Set input file\n",
    "f = input_files[1]\n",
    "print(\"File:\\n\",f.split(base_input_path)[1])\n",
    "output_path = base_output_spath\n",
    "basestr = f.split(base_input_path)[1].split('.csv')[0]\n",
    "for name in basestr.split(os.sep):\n",
    "    if name != \"\":\n",
    "        output_path = os.path.join(output_path,name)\n",
    "print(\"Output_path:\\n\",output_path)"
   ]
  },
  {
   "cell_type": "raw",
   "metadata": {},
   "source": [
    "print(\"Processing...\")\n",
    "trackprocessor.process_data(f,output_path,features,G,exclude_borderobjs_conds=exclude_borderobjs_conds,align_conds=align_conds)\n",
    "print(\"Done!.\")"
   ]
  },
  {
   "cell_type": "markdown",
   "metadata": {},
   "source": [
    "## Process all files"
   ]
  },
  {
   "cell_type": "markdown",
   "metadata": {},
   "source": [
    "You can set the miminum number of timepoints for the tracks ie in this case we only use tracks with at least 5 timepoints"
   ]
  },
  {
   "cell_type": "raw",
   "metadata": {},
   "source": [
    "# process all files\n",
    "# note: use parallel computing instead (next section) to speed up computation\n",
    "for f in tqdm(input_files):\n",
    "    output_path = base_output_path+f.split(base_input_path)[1].split('.csv')[0]\n",
    "    process_data(f,output_path,G,30)"
   ]
  },
  {
   "cell_type": "code",
   "execution_count": 14,
   "metadata": {},
   "outputs": [
    {
     "name": "stdout",
     "output_type": "stream",
     "text": [
      "nb. of allocated cpus: 10\n"
     ]
    }
   ],
   "source": [
    "maxcpu = 10 # number of cpus (e.g. cores) to be used\n",
    "pool = pp.ProcessPool(min(len(input_files),maxcpu))\n",
    "print(\"nb. of allocated cpus:\",pool.ncpus)"
   ]
  },
  {
   "cell_type": "code",
   "execution_count": 15,
   "metadata": {},
   "outputs": [],
   "source": [
    "def compact_func(f,base_input_path,base_output_spath,\n",
    "                 features,transistion_graph,\n",
    "                 nrows_limit,min_nb_timepoints,\n",
    "                 exclude_borderobjs_conds,align_conds):\n",
    "    \n",
    "    # configure output path\n",
    "    output_path = base_output_spath\n",
    "    basestr = f.split(base_input_path)[1].split('.csv')[0]\n",
    "    for name in basestr.split(os.sep):\n",
    "        if name != \"\":\n",
    "            output_path = os.path.join(output_path,name)\n",
    "    \n",
    "    try:\n",
    "        trackprocessor.process_data(f,output_path,features,transistion_graph,\n",
    "                              nrows_limit,min_nb_timepoints,\n",
    "                              exclude_borderobjs_conds,align_conds)\n",
    "    except:\n",
    "        return (False,basestr)\n",
    "    \n",
    "    return (True,basestr)"
   ]
  },
  {
   "cell_type": "code",
   "execution_count": 16,
   "metadata": {},
   "outputs": [],
   "source": [
    "partial_func = partial(compact_func,\n",
    "                       base_input_path=base_input_path,base_output_spath=base_output_spath,\n",
    "                       features=features,transistion_graph=G,\n",
    "                       nrows_limit=30,min_nb_timepoints=5,\n",
    "                       exclude_borderobjs_conds=exclude_borderobjs_conds,align_conds=align_conds)"
   ]
  },
  {
   "cell_type": "code",
   "execution_count": 17,
   "metadata": {},
   "outputs": [
    {
     "name": "stdout",
     "output_type": "stream",
     "text": [
      "Wall time: 39.8 s\n"
     ]
    }
   ],
   "source": [
    "%%time\n",
    "result = pool.map(partial_func,input_files)"
   ]
  },
  {
   "cell_type": "code",
   "execution_count": 18,
   "metadata": {
    "scrolled": true
   },
   "outputs": [
    {
     "name": "stdout",
     "output_type": "stream",
     "text": [
      "Failed cases:\n"
     ]
    }
   ],
   "source": [
    "print(\"Failed cases:\")\n",
    "for res in result:\n",
    "    if res[0]==False:\n",
    "        print(res[1])"
   ]
  },
  {
   "cell_type": "code",
   "execution_count": 19,
   "metadata": {
    "scrolled": true
   },
   "outputs": [
    {
     "name": "stdout",
     "output_type": "stream",
     "text": [
      "Successfull cases:\n",
      "\\AuroraInhibitor_20200806_Pos06_cl16\\Image\n",
      "\\AuroraInhibitor_20200806_Pos06_cl16\\Nuclei\n",
      "\\AuroraInhibitor_20200806_Pos06_cl16\\Telomere\n",
      "\\AuroraInhibitor_20200806_Pos07_cl16\\Image\n",
      "\\AuroraInhibitor_20200806_Pos07_cl16\\Nuclei\n",
      "\\AuroraInhibitor_20200806_Pos07_cl16\\Telomere\n",
      "\\AuroraInhibitor_20200806_Pos08_cl16\\Image\n",
      "\\AuroraInhibitor_20200806_Pos08_cl16\\Nuclei\n",
      "\\AuroraInhibitor_20200806_Pos08_cl16\\Telomere\n",
      "\\AuroraInhibitor_20200806_Pos09_cl16\\Image\n",
      "\\AuroraInhibitor_20200806_Pos09_cl16\\Nuclei\n",
      "\\AuroraInhibitor_20200806_Pos09_cl16\\Telomere\n",
      "\\DMSO_20200806_Pos02_cl16\\Image\n",
      "\\DMSO_20200806_Pos02_cl16\\Nuclei\n",
      "\\DMSO_20200806_Pos02_cl16\\Telomere\n",
      "\\DMSO_20200806_Pos03_cl16\\Image\n",
      "\\DMSO_20200806_Pos03_cl16\\Nuclei\n",
      "\\DMSO_20200806_Pos03_cl16\\Telomere\n",
      "\\DMSO_20200806_Pos04_cl16\\Image\n",
      "\\DMSO_20200806_Pos04_cl16\\Nuclei\n",
      "\\DMSO_20200806_Pos04_cl16\\Telomere\n",
      "\\DMSO_20200806_Pos05_cl16\\Image\n",
      "\\DMSO_20200806_Pos05_cl16\\Nuclei\n",
      "\\DMSO_20200806_Pos05_cl16\\Telomere\n"
     ]
    }
   ],
   "source": [
    "print(\"Successfull cases:\")\n",
    "for res in result:\n",
    "    if res[0]==True:\n",
    "        print(res[1])"
   ]
  },
  {
   "cell_type": "code",
   "execution_count": null,
   "metadata": {},
   "outputs": [],
   "source": []
  }
 ],
 "metadata": {
  "kernelspec": {
   "display_name": "Python 3",
   "language": "python",
   "name": "python3"
  },
  "language_info": {
   "codemirror_mode": {
    "name": "ipython",
    "version": 3
   },
   "file_extension": ".py",
   "mimetype": "text/x-python",
   "name": "python",
   "nbconvert_exporter": "python",
   "pygments_lexer": "ipython3",
   "version": "3.6.12"
  },
  "toc": {
   "base_numbering": 1,
   "nav_menu": {},
   "number_sections": true,
   "sideBar": true,
   "skip_h1_title": false,
   "title_cell": "Table of Contents",
   "title_sidebar": "Contents",
   "toc_cell": false,
   "toc_position": {
    "height": "calc(100% - 180px)",
    "left": "10px",
    "top": "150px",
    "width": "255px"
   },
   "toc_section_display": true,
   "toc_window_display": true
  },
  "varInspector": {
   "cols": {
    "lenName": 16,
    "lenType": 16,
    "lenVar": 40
   },
   "kernels_config": {
    "python": {
     "delete_cmd_postfix": "",
     "delete_cmd_prefix": "del ",
     "library": "var_list.py",
     "varRefreshCmd": "print(var_dic_list())"
    },
    "r": {
     "delete_cmd_postfix": ") ",
     "delete_cmd_prefix": "rm(",
     "library": "var_list.r",
     "varRefreshCmd": "cat(var_dic_list()) "
    }
   },
   "types_to_exclude": [
    "module",
    "function",
    "builtin_function_or_method",
    "instance",
    "_Feature"
   ],
   "window_display": false
  }
 },
 "nbformat": 4,
 "nbformat_minor": 4
}
